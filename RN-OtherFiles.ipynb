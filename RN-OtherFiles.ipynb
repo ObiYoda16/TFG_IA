{
 "cells": [
  {
   "cell_type": "code",
   "execution_count": 1,
   "id": "d6d240cb-8a29-4b2b-bb12-23743557d478",
   "metadata": {},
   "outputs": [
    {
     "name": "stderr",
     "output_type": "stream",
     "text": [
      "2024-07-14 17:09:43.701125: E external/local_xla/xla/stream_executor/cuda/cuda_fft.cc:479] Unable to register cuFFT factory: Attempting to register factory for plugin cuFFT when one has already been registered\n",
      "2024-07-14 17:09:43.804097: E external/local_xla/xla/stream_executor/cuda/cuda_dnn.cc:10575] Unable to register cuDNN factory: Attempting to register factory for plugin cuDNN when one has already been registered\n",
      "2024-07-14 17:09:43.804890: E external/local_xla/xla/stream_executor/cuda/cuda_blas.cc:1442] Unable to register cuBLAS factory: Attempting to register factory for plugin cuBLAS when one has already been registered\n",
      "2024-07-14 17:09:43.976322: I tensorflow/core/platform/cpu_feature_guard.cc:210] This TensorFlow binary is optimized to use available CPU instructions in performance-critical operations.\n",
      "To enable the following instructions: AVX2 FMA, in other operations, rebuild TensorFlow with the appropriate compiler flags.\n"
     ]
    }
   ],
   "source": [
    "import keras\n",
    "import numpy as np\n",
    "import tensorflow as tf\n",
    "from keras import layers\n",
    "from sklearn.metrics import classification_report\n",
    "from keras import layers, models, regularizers\n",
    "from keras.layers import Embedding, LSTM, Dense, Dropout, Bidirectional\n",
    "from keras.regularizers import l2\n",
    "from keras.callbacks import ReduceLROnPlateau\n",
    "import keras_tuner as kt\n",
    "from tensorflow.keras.metrics import Precision, Recall\n",
    "import tensorflow.keras.backend as K\n",
    "from sklearn.metrics import accuracy_score\n",
    "from sklearn.preprocessing import LabelEncoder\n",
    "from xgboost import XGBClassifier\n",
    "import torch\n",
    "import torchaudio\n",
    "from tqdm import tqdm\n",
    "from sklearn.model_selection import GridSearchCV, train_test_split"
   ]
  },
  {
   "cell_type": "code",
   "execution_count": 37,
   "id": "b1dd0b8c-27df-4f4d-9e23-46702a4bc214",
   "metadata": {},
   "outputs": [],
   "source": [
    "X = np.load('audio_features.npy')\n",
    "y = np.load('audio_labels.npy')\n",
    "\n",
    "# Dividir los datos en conjuntos de entrenamiento y prueba\n",
    "X_train, X_test, y_train, y_test = train_test_split(X, y, test_size=0.2, random_state=42)\n",
    "\n",
    "X_train_formated = X_train\n",
    "y_train_formated = y_train\n",
    "X_test_formated = X_test\n",
    "y_test_formated = y_test"
   ]
  },
  {
   "cell_type": "code",
   "execution_count": 34,
   "id": "32032005-1eb8-446d-afe6-eb1510856359",
   "metadata": {},
   "outputs": [
    {
     "name": "stdout",
     "output_type": "stream",
     "text": [
      "Distribución original de las clases: Counter({1.0: 1123, 0.0: 790})\n",
      "Distribución después de SMOTE: Counter({1.0: 1123, 0.0: 1123})\n"
     ]
    }
   ],
   "source": [
    "from imblearn.over_sampling import SMOTE\n",
    "from sklearn.model_selection import train_test_split\n",
    "\n",
    "\n",
    "smote = SMOTE(random_state=42)\n",
    "X_train_formated, y_train_formated = smote.fit_resample(X_train, y_train)\n",
    "\n",
    "# Comprobar las nuevas distribuciones de las clases\n",
    "from collections import Counter\n",
    "print(f'Distribución original de las clases: {Counter(y_train)}')\n",
    "print(f'Distribución después de SMOTE: {Counter(y_train_formated)}')"
   ]
  },
  {
   "cell_type": "code",
   "execution_count": 35,
   "id": "1a3ff21e-34a6-484c-85e2-429d0f55faef",
   "metadata": {},
   "outputs": [
    {
     "name": "stdout",
     "output_type": "stream",
     "text": [
      "Xtrain\n"
     ]
    },
    {
     "data": {
      "text/plain": [
       "(2246, 768)"
      ]
     },
     "execution_count": 35,
     "metadata": {},
     "output_type": "execute_result"
    }
   ],
   "source": [
    "print(\"Xtrain\") \n",
    "X_train_formated.shape\n"
   ]
  },
  {
   "cell_type": "code",
   "execution_count": 36,
   "id": "aaba3c01-0730-4736-b1df-c92c0c156534",
   "metadata": {
    "scrolled": true
   },
   "outputs": [
    {
     "name": "stdout",
     "output_type": "stream",
     "text": [
      "Ytrain\n"
     ]
    },
    {
     "data": {
      "text/plain": [
       "(2246,)"
      ]
     },
     "execution_count": 36,
     "metadata": {},
     "output_type": "execute_result"
    }
   ],
   "source": [
    "print(\"Ytrain\") \n",
    "y_train_formated.shape"
   ]
  },
  {
   "cell_type": "code",
   "execution_count": 30,
   "id": "df4a5918-8c45-46e6-9c20-a3c5845a8c97",
   "metadata": {},
   "outputs": [],
   "source": [
    "X_train_formated = np.expand_dims(X_train_formated, axis=-1)\n",
    "input_shape = (768,)\n",
    "num_classes = 1  # assuming binary classification\n",
    "timesteps = X_train_formated.shape[1]  # Number of timesteps\n",
    "features = X_train_formated.shape[2]   # Number of features\n"
   ]
  },
  {
   "cell_type": "code",
   "execution_count": 4,
   "id": "71c14671-c8dc-4395-9e82-12b06ca89009",
   "metadata": {
    "scrolled": true
   },
   "outputs": [
    {
     "ename": "NameError",
     "evalue": "name 'timesteps' is not defined",
     "output_type": "error",
     "traceback": [
      "\u001b[0;31m---------------------------------------------------------------------------\u001b[0m",
      "\u001b[0;31mNameError\u001b[0m                                 Traceback (most recent call last)",
      "Cell \u001b[0;32mIn[4], line 2\u001b[0m\n\u001b[1;32m      1\u001b[0m model \u001b[38;5;241m=\u001b[39m models\u001b[38;5;241m.\u001b[39mSequential([\n\u001b[0;32m----> 2\u001b[0m     layers\u001b[38;5;241m.\u001b[39mInput(shape\u001b[38;5;241m=\u001b[39m(\u001b[43mtimesteps\u001b[49m, features)), \n\u001b[1;32m      3\u001b[0m     layers\u001b[38;5;241m.\u001b[39mLSTM(\u001b[38;5;241m64\u001b[39m, return_sequences\u001b[38;5;241m=\u001b[39m\u001b[38;5;28;01mTrue\u001b[39;00m, input_shape\u001b[38;5;241m=\u001b[39m(\u001b[38;5;241m128\u001b[39m,input_shape)),\n\u001b[1;32m      4\u001b[0m     layers\u001b[38;5;241m.\u001b[39mLSTM(\u001b[38;5;241m32\u001b[39m, return_sequences\u001b[38;5;241m=\u001b[39m\u001b[38;5;28;01mFalse\u001b[39;00m),\n\u001b[1;32m      5\u001b[0m     layers\u001b[38;5;241m.\u001b[39mDense(\u001b[38;5;241m60\u001b[39m, activation\u001b[38;5;241m=\u001b[39m\u001b[38;5;124m\"\u001b[39m\u001b[38;5;124mrelu\u001b[39m\u001b[38;5;124m\"\u001b[39m, kernel_regularizer\u001b[38;5;241m=\u001b[39mregularizers\u001b[38;5;241m.\u001b[39ml2(\u001b[38;5;241m0.02\u001b[39m)),\n\u001b[1;32m      6\u001b[0m     layers\u001b[38;5;241m.\u001b[39mDropout(\u001b[38;5;241m0.2\u001b[39m),\n\u001b[1;32m      7\u001b[0m     layers\u001b[38;5;241m.\u001b[39mDense(\u001b[38;5;241m30\u001b[39m, activation\u001b[38;5;241m=\u001b[39m\u001b[38;5;124m\"\u001b[39m\u001b[38;5;124mrelu\u001b[39m\u001b[38;5;124m\"\u001b[39m, kernel_regularizer\u001b[38;5;241m=\u001b[39mregularizers\u001b[38;5;241m.\u001b[39ml2(\u001b[38;5;241m0.02\u001b[39m)),\n\u001b[1;32m      8\u001b[0m     layers\u001b[38;5;241m.\u001b[39mDense(num_classes, activation\u001b[38;5;241m=\u001b[39m\u001b[38;5;124m\"\u001b[39m\u001b[38;5;124msigmoid\u001b[39m\u001b[38;5;124m\"\u001b[39m)  \u001b[38;5;66;03m# Capa de salida con activación sigmoid para binaria\u001b[39;00m\n\u001b[1;32m      9\u001b[0m ])\n",
      "\u001b[0;31mNameError\u001b[0m: name 'timesteps' is not defined"
     ]
    }
   ],
   "source": [
    "model = models.Sequential([\n",
    "    layers.Input(shape=(timesteps, features)), \n",
    "    layers.LSTM(64, return_sequences=True, input_shape=(128,input_shape)),\n",
    "    layers.LSTM(32, return_sequences=False),\n",
    "    layers.Dense(60, activation=\"relu\", kernel_regularizer=regularizers.l2(0.02)),\n",
    "    layers.Dropout(0.2),\n",
    "    layers.Dense(30, activation=\"relu\", kernel_regularizer=regularizers.l2(0.02)),\n",
    "    layers.Dense(num_classes, activation=\"sigmoid\")  # Capa de salida con activación sigmoid para binaria\n",
    "])\n"
   ]
  },
  {
   "cell_type": "code",
   "execution_count": 5,
   "id": "5c0238fd-9a87-4fbc-91ca-a19af895ab2e",
   "metadata": {
    "scrolled": true
   },
   "outputs": [
    {
     "name": "stderr",
     "output_type": "stream",
     "text": [
      "/usr/local/lib/python3.11/dist-packages/keras/src/layers/core/input_layer.py:26: UserWarning: Argument `input_shape` is deprecated. Use `shape` instead.\n",
      "  warnings.warn(\n",
      "2024-07-14 17:10:00.109327: I external/local_xla/xla/stream_executor/cuda/cuda_executor.cc:984] could not open file to read NUMA node: /sys/bus/pci/devices/0000:07:00.0/numa_node\n",
      "Your kernel may have been built without NUMA support.\n",
      "2024-07-14 17:10:00.114640: I external/local_xla/xla/stream_executor/cuda/cuda_executor.cc:984] could not open file to read NUMA node: /sys/bus/pci/devices/0000:07:00.0/numa_node\n",
      "Your kernel may have been built without NUMA support.\n",
      "2024-07-14 17:10:00.114679: I external/local_xla/xla/stream_executor/cuda/cuda_executor.cc:984] could not open file to read NUMA node: /sys/bus/pci/devices/0000:07:00.0/numa_node\n",
      "Your kernel may have been built without NUMA support.\n",
      "2024-07-14 17:10:00.116814: I external/local_xla/xla/stream_executor/cuda/cuda_executor.cc:984] could not open file to read NUMA node: /sys/bus/pci/devices/0000:07:00.0/numa_node\n",
      "Your kernel may have been built without NUMA support.\n",
      "2024-07-14 17:10:00.116856: I external/local_xla/xla/stream_executor/cuda/cuda_executor.cc:984] could not open file to read NUMA node: /sys/bus/pci/devices/0000:07:00.0/numa_node\n",
      "Your kernel may have been built without NUMA support.\n",
      "2024-07-14 17:10:00.116881: I external/local_xla/xla/stream_executor/cuda/cuda_executor.cc:984] could not open file to read NUMA node: /sys/bus/pci/devices/0000:07:00.0/numa_node\n",
      "Your kernel may have been built without NUMA support.\n",
      "2024-07-14 17:10:00.284094: I external/local_xla/xla/stream_executor/cuda/cuda_executor.cc:984] could not open file to read NUMA node: /sys/bus/pci/devices/0000:07:00.0/numa_node\n",
      "Your kernel may have been built without NUMA support.\n",
      "2024-07-14 17:10:00.284151: I external/local_xla/xla/stream_executor/cuda/cuda_executor.cc:984] could not open file to read NUMA node: /sys/bus/pci/devices/0000:07:00.0/numa_node\n",
      "Your kernel may have been built without NUMA support.\n",
      "2024-07-14 17:10:00.284160: I tensorflow/core/common_runtime/gpu/gpu_device.cc:2019] Could not identify NUMA node of platform GPU id 0, defaulting to 0.  Your kernel may not have been built with NUMA support.\n",
      "2024-07-14 17:10:00.284196: I external/local_xla/xla/stream_executor/cuda/cuda_executor.cc:984] could not open file to read NUMA node: /sys/bus/pci/devices/0000:07:00.0/numa_node\n",
      "Your kernel may have been built without NUMA support.\n",
      "2024-07-14 17:10:00.284818: I tensorflow/core/common_runtime/gpu/gpu_device.cc:1928] Created device /job:localhost/replica:0/task:0/device:GPU:0 with 6717 MB memory:  -> device: 0, name: NVIDIA GeForce GTX 1070, pci bus id: 0000:07:00.0, compute capability: 6.1\n"
     ]
    }
   ],
   "source": [
    "model = models.Sequential([\n",
    "    layers.InputLayer(input_shape=input_shape),\n",
    "    layers.Dense(60, activation=\"relu\", kernel_regularizer=regularizers.l2(0.02)),\n",
    "    layers.Dense(30, activation=\"relu\", kernel_regularizer=regularizers.l2(0.02)),\n",
    "    layers.Dense(num_classes, activation=\"sigmoid\")  # Capa de salida con activación sigmoid\n",
    "])"
   ]
  },
  {
   "cell_type": "code",
   "execution_count": 24,
   "id": "c3b2039b-8c0f-463e-ae29-8d29fa39b7c3",
   "metadata": {},
   "outputs": [
    {
     "name": "stdout",
     "output_type": "stream",
     "text": [
      "Distribución original de las clases: Counter({1.0: 732, 0.0: 492})\n",
      "Distribución después de SMOTE: Counter({1.0: 732, 0.0: 732})\n"
     ]
    }
   ],
   "source": [
    "from imblearn.over_sampling import SMOTE\n",
    "from sklearn.model_selection import train_test_split\n",
    "\n",
    "# Dividir los datos en entrenamiento y prueba si no lo has hecho ya\n",
    "X_train, X_test, y_train, y_test = train_test_split(X_train, y_train, test_size=0.2, random_state=42)\n",
    "\n",
    "# Aplicar SMOTE solo a los datos de entrenamiento\n",
    "smote = SMOTE(random_state=42)\n",
    "X_train_formated, y_train_formated = smote.fit_resample(X_train, y_train)\n",
    "\n",
    "# Comprobar las nuevas distribuciones de las clases\n",
    "from collections import Counter\n",
    "print(f'Distribución original de las clases: {Counter(y_train)}')\n",
    "print(f'Distribución después de SMOTE: {Counter(y_train_formated)}')"
   ]
  },
  {
   "cell_type": "code",
   "execution_count": 15,
   "id": "e6099ae3-c4e0-483b-9d52-8b5530a3745c",
   "metadata": {},
   "outputs": [
    {
     "name": "stderr",
     "output_type": "stream",
     "text": [
      "/usr/local/lib/python3.11/dist-packages/keras/src/layers/rnn/bidirectional.py:107: UserWarning: Do not pass an `input_shape`/`input_dim` argument to a layer. When using Sequential models, prefer using an `Input(shape)` object as the first layer in the model instead.\n",
      "  super().__init__(**kwargs)\n"
     ]
    }
   ],
   "source": [
    "model = models.Sequential([\n",
    "    layers.Bidirectional(layers.LSTM(128, return_sequences=True), input_shape=(timesteps, features)),\n",
    "    layers.Bidirectional(layers.LSTM(64, return_sequences=False)),\n",
    "    \n",
    "    layers.Dense(128, activation=\"relu\", kernel_regularizer=regularizers.l2(0.01)),\n",
    "    layers.BatchNormalization(),\n",
    "    layers.Dropout(0.5),\n",
    "    \n",
    "    layers.Dense(64, activation=\"relu\", kernel_regularizer=regularizers.l2(0.01)),\n",
    "    layers.BatchNormalization(),\n",
    "    layers.Dropout(0.5),\n",
    "    \n",
    "    layers.Dense(32, activation=\"relu\", kernel_regularizer=regularizers.l2(0.01)),\n",
    "    layers.BatchNormalization(),\n",
    "    layers.Dropout(0.5),\n",
    "    \n",
    "    layers.Dense(num_classes, activation=\"sigmoid\")\n",
    "])"
   ]
  },
  {
   "cell_type": "code",
   "execution_count": 10,
   "id": "999f9b99-0036-4cea-8a0f-cec34338754c",
   "metadata": {},
   "outputs": [
    {
     "ename": "NameError",
     "evalue": "name 'timesteps' is not defined",
     "output_type": "error",
     "traceback": [
      "\u001b[0;31m---------------------------------------------------------------------------\u001b[0m",
      "\u001b[0;31mNameError\u001b[0m                                 Traceback (most recent call last)",
      "Cell \u001b[0;32mIn[10], line 3\u001b[0m\n\u001b[1;32m      1\u001b[0m model \u001b[38;5;241m=\u001b[39m models\u001b[38;5;241m.\u001b[39mSequential([\n\u001b[1;32m      2\u001b[0m     \u001b[38;5;66;03m# Añadir capas convolucionales para extraer características\u001b[39;00m\n\u001b[0;32m----> 3\u001b[0m     layers\u001b[38;5;241m.\u001b[39mConv1D(filters\u001b[38;5;241m=\u001b[39m\u001b[38;5;241m64\u001b[39m, kernel_size\u001b[38;5;241m=\u001b[39m\u001b[38;5;241m3\u001b[39m, activation\u001b[38;5;241m=\u001b[39m\u001b[38;5;124m'\u001b[39m\u001b[38;5;124mrelu\u001b[39m\u001b[38;5;124m'\u001b[39m, input_shape\u001b[38;5;241m=\u001b[39m(\u001b[43mtimesteps\u001b[49m, features)),\n\u001b[1;32m      4\u001b[0m     layers\u001b[38;5;241m.\u001b[39mConv1D(filters\u001b[38;5;241m=\u001b[39m\u001b[38;5;241m64\u001b[39m, kernel_size\u001b[38;5;241m=\u001b[39m\u001b[38;5;241m3\u001b[39m, activation\u001b[38;5;241m=\u001b[39m\u001b[38;5;124m'\u001b[39m\u001b[38;5;124mrelu\u001b[39m\u001b[38;5;124m'\u001b[39m),\n\u001b[1;32m      5\u001b[0m     layers\u001b[38;5;241m.\u001b[39mMaxPooling1D(pool_size\u001b[38;5;241m=\u001b[39m\u001b[38;5;241m2\u001b[39m),\n\u001b[1;32m      6\u001b[0m     layers\u001b[38;5;241m.\u001b[39mDropout(\u001b[38;5;241m0.2\u001b[39m),\n\u001b[1;32m      7\u001b[0m     \n\u001b[1;32m      8\u001b[0m     \u001b[38;5;66;03m# Capas LSTM para capturar dependencias temporales\u001b[39;00m\n\u001b[1;32m      9\u001b[0m     layers\u001b[38;5;241m.\u001b[39mLSTM(\u001b[38;5;241m128\u001b[39m, return_sequences\u001b[38;5;241m=\u001b[39m\u001b[38;5;28;01mTrue\u001b[39;00m),\n\u001b[1;32m     10\u001b[0m     layers\u001b[38;5;241m.\u001b[39mLSTM(\u001b[38;5;241m64\u001b[39m, return_sequences\u001b[38;5;241m=\u001b[39m\u001b[38;5;28;01mFalse\u001b[39;00m),\n\u001b[1;32m     11\u001b[0m     \n\u001b[1;32m     12\u001b[0m     \u001b[38;5;66;03m# Capas densas para la clasificación final\u001b[39;00m\n\u001b[1;32m     13\u001b[0m     layers\u001b[38;5;241m.\u001b[39mDense(\u001b[38;5;241m60\u001b[39m, activation\u001b[38;5;241m=\u001b[39m\u001b[38;5;124m\"\u001b[39m\u001b[38;5;124mrelu\u001b[39m\u001b[38;5;124m\"\u001b[39m, kernel_regularizer\u001b[38;5;241m=\u001b[39mregularizers\u001b[38;5;241m.\u001b[39ml2(\u001b[38;5;241m0.02\u001b[39m)),\n\u001b[1;32m     14\u001b[0m     layers\u001b[38;5;241m.\u001b[39mDropout(\u001b[38;5;241m0.2\u001b[39m),\n\u001b[1;32m     15\u001b[0m     layers\u001b[38;5;241m.\u001b[39mDense(\u001b[38;5;241m30\u001b[39m, activation\u001b[38;5;241m=\u001b[39m\u001b[38;5;124m\"\u001b[39m\u001b[38;5;124mrelu\u001b[39m\u001b[38;5;124m\"\u001b[39m, kernel_regularizer\u001b[38;5;241m=\u001b[39mregularizers\u001b[38;5;241m.\u001b[39ml2(\u001b[38;5;241m0.02\u001b[39m)),\n\u001b[1;32m     16\u001b[0m     layers\u001b[38;5;241m.\u001b[39mDense(num_classes, activation\u001b[38;5;241m=\u001b[39m\u001b[38;5;124m\"\u001b[39m\u001b[38;5;124msigmoid\u001b[39m\u001b[38;5;124m\"\u001b[39m)  \u001b[38;5;66;03m# Capa de salida con activación sigmoid para clasificación binaria\u001b[39;00m\n\u001b[1;32m     17\u001b[0m ])\n",
      "\u001b[0;31mNameError\u001b[0m: name 'timesteps' is not defined"
     ]
    }
   ],
   "source": [
    "model = models.Sequential([\n",
    "    # Añadir capas convolucionales para extraer características\n",
    "    layers.Conv1D(filters=64, kernel_size=3, activation='relu', input_shape=(timesteps, features)),\n",
    "    layers.Conv1D(filters=64, kernel_size=3, activation='relu'),\n",
    "    layers.MaxPooling1D(pool_size=2),\n",
    "    layers.Dropout(0.2),\n",
    "    \n",
    "    # Capas LSTM para capturar dependencias temporales\n",
    "    layers.LSTM(128, return_sequences=True),\n",
    "    layers.LSTM(64, return_sequences=False),\n",
    "    \n",
    "    # Capas densas para la clasificación final\n",
    "    layers.Dense(60, activation=\"relu\", kernel_regularizer=regularizers.l2(0.02)),\n",
    "    layers.Dropout(0.2),\n",
    "    layers.Dense(30, activation=\"relu\", kernel_regularizer=regularizers.l2(0.02)),\n",
    "    layers.Dense(num_classes, activation=\"sigmoid\")  # Capa de salida con activación sigmoid para clasificación binaria\n",
    "])"
   ]
  },
  {
   "cell_type": "code",
   "execution_count": 9,
   "id": "64a545fe-6edc-4b7e-add2-9e1294533173",
   "metadata": {},
   "outputs": [
    {
     "ename": "NameError",
     "evalue": "name 'timesteps' is not defined",
     "output_type": "error",
     "traceback": [
      "\u001b[0;31m---------------------------------------------------------------------------\u001b[0m",
      "\u001b[0;31mNameError\u001b[0m                                 Traceback (most recent call last)",
      "Cell \u001b[0;32mIn[9], line 3\u001b[0m\n\u001b[1;32m      1\u001b[0m model \u001b[38;5;241m=\u001b[39m models\u001b[38;5;241m.\u001b[39mSequential([\n\u001b[1;32m      2\u001b[0m     \u001b[38;5;66;03m# Añadir capas Bidirectional LSTM\u001b[39;00m\n\u001b[0;32m----> 3\u001b[0m     layers\u001b[38;5;241m.\u001b[39mBidirectional(layers\u001b[38;5;241m.\u001b[39mLSTM(\u001b[38;5;241m128\u001b[39m, return_sequences\u001b[38;5;241m=\u001b[39m\u001b[38;5;28;01mTrue\u001b[39;00m), input_shape\u001b[38;5;241m=\u001b[39m(\u001b[43mtimesteps\u001b[49m, features)),\n\u001b[1;32m      4\u001b[0m     layers\u001b[38;5;241m.\u001b[39mBidirectional(layers\u001b[38;5;241m.\u001b[39mLSTM(\u001b[38;5;241m64\u001b[39m, return_sequences\u001b[38;5;241m=\u001b[39m\u001b[38;5;28;01mFalse\u001b[39;00m)),\n\u001b[1;32m      5\u001b[0m     \n\u001b[1;32m      6\u001b[0m     \u001b[38;5;66;03m# Capas densas para la clasificación final\u001b[39;00m\n\u001b[1;32m      7\u001b[0m     layers\u001b[38;5;241m.\u001b[39mDense(\u001b[38;5;241m128\u001b[39m, activation\u001b[38;5;241m=\u001b[39m\u001b[38;5;124m\"\u001b[39m\u001b[38;5;124mrelu\u001b[39m\u001b[38;5;124m\"\u001b[39m, kernel_regularizer\u001b[38;5;241m=\u001b[39mregularizers\u001b[38;5;241m.\u001b[39ml2(\u001b[38;5;241m0.01\u001b[39m)),\n\u001b[1;32m      8\u001b[0m     layers\u001b[38;5;241m.\u001b[39mBatchNormalization(),\n\u001b[1;32m      9\u001b[0m     layers\u001b[38;5;241m.\u001b[39mDropout(\u001b[38;5;241m0.2\u001b[39m),\n\u001b[1;32m     10\u001b[0m     \n\u001b[1;32m     11\u001b[0m     layers\u001b[38;5;241m.\u001b[39mDense(\u001b[38;5;241m64\u001b[39m, activation\u001b[38;5;241m=\u001b[39m\u001b[38;5;124m\"\u001b[39m\u001b[38;5;124mrelu\u001b[39m\u001b[38;5;124m\"\u001b[39m, kernel_regularizer\u001b[38;5;241m=\u001b[39mregularizers\u001b[38;5;241m.\u001b[39ml2(\u001b[38;5;241m0.01\u001b[39m)),\n\u001b[1;32m     12\u001b[0m     layers\u001b[38;5;241m.\u001b[39mBatchNormalization(),\n\u001b[1;32m     13\u001b[0m     layers\u001b[38;5;241m.\u001b[39mDropout(\u001b[38;5;241m0.2\u001b[39m),\n\u001b[1;32m     14\u001b[0m     \n\u001b[1;32m     15\u001b[0m     layers\u001b[38;5;241m.\u001b[39mDense(\u001b[38;5;241m32\u001b[39m, activation\u001b[38;5;241m=\u001b[39m\u001b[38;5;124m\"\u001b[39m\u001b[38;5;124mrelu\u001b[39m\u001b[38;5;124m\"\u001b[39m, kernel_regularizer\u001b[38;5;241m=\u001b[39mregularizers\u001b[38;5;241m.\u001b[39ml2(\u001b[38;5;241m0.01\u001b[39m)),\n\u001b[1;32m     16\u001b[0m     layers\u001b[38;5;241m.\u001b[39mDropout(\u001b[38;5;241m0.2\u001b[39m),\n\u001b[1;32m     17\u001b[0m     \n\u001b[1;32m     18\u001b[0m     layers\u001b[38;5;241m.\u001b[39mDense(num_classes, activation\u001b[38;5;241m=\u001b[39m\u001b[38;5;124m\"\u001b[39m\u001b[38;5;124msigmoid\u001b[39m\u001b[38;5;124m\"\u001b[39m)  \u001b[38;5;66;03m# Capa de salida con activación sigmoid para clasificación binaria\u001b[39;00m\n\u001b[1;32m     19\u001b[0m ])\n",
      "\u001b[0;31mNameError\u001b[0m: name 'timesteps' is not defined"
     ]
    }
   ],
   "source": [
    "model = models.Sequential([\n",
    "    # Añadir capas Bidirectional LSTM\n",
    "    layers.Bidirectional(layers.LSTM(128, return_sequences=True), input_shape=(timesteps, features)),\n",
    "    layers.Bidirectional(layers.LSTM(64, return_sequences=False)),\n",
    "    \n",
    "    # Capas densas para la clasificación final\n",
    "    layers.Dense(128, activation=\"relu\", kernel_regularizer=regularizers.l2(0.01)),\n",
    "    layers.BatchNormalization(),\n",
    "    layers.Dropout(0.2),\n",
    "    \n",
    "    layers.Dense(64, activation=\"relu\", kernel_regularizer=regularizers.l2(0.01)),\n",
    "    layers.BatchNormalization(),\n",
    "    layers.Dropout(0.2),\n",
    "    \n",
    "    layers.Dense(32, activation=\"relu\", kernel_regularizer=regularizers.l2(0.01)),\n",
    "    layers.Dropout(0.2),\n",
    "    \n",
    "    layers.Dense(num_classes, activation=\"sigmoid\")  # Capa de salida con activación sigmoid para clasificación binaria\n",
    "])"
   ]
  },
  {
   "cell_type": "code",
   "execution_count": 8,
   "id": "563ccdbb-c6e9-4ce4-8316-657aa1aa2ed8",
   "metadata": {},
   "outputs": [
    {
     "ename": "NameError",
     "evalue": "name 'timesteps' is not defined",
     "output_type": "error",
     "traceback": [
      "\u001b[0;31m---------------------------------------------------------------------------\u001b[0m",
      "\u001b[0;31mNameError\u001b[0m                                 Traceback (most recent call last)",
      "Cell \u001b[0;32mIn[8], line 3\u001b[0m\n\u001b[1;32m      1\u001b[0m model \u001b[38;5;241m=\u001b[39m models\u001b[38;5;241m.\u001b[39mSequential([\n\u001b[1;32m      2\u001b[0m     \u001b[38;5;66;03m# Añadir capas Bidirectional LSTM\u001b[39;00m\n\u001b[0;32m----> 3\u001b[0m     layers\u001b[38;5;241m.\u001b[39mBidirectional(layers\u001b[38;5;241m.\u001b[39mLSTM(\u001b[38;5;241m128\u001b[39m, return_sequences\u001b[38;5;241m=\u001b[39m\u001b[38;5;28;01mTrue\u001b[39;00m), input_shape\u001b[38;5;241m=\u001b[39m(\u001b[43mtimesteps\u001b[49m, features)),\n\u001b[1;32m      4\u001b[0m     layers\u001b[38;5;241m.\u001b[39mBidirectional(layers\u001b[38;5;241m.\u001b[39mLSTM(\u001b[38;5;241m64\u001b[39m, return_sequences\u001b[38;5;241m=\u001b[39m\u001b[38;5;28;01mFalse\u001b[39;00m)),\n\u001b[1;32m      5\u001b[0m     \n\u001b[1;32m      6\u001b[0m     \u001b[38;5;66;03m# Capas densas para la clasificación final\u001b[39;00m\n\u001b[1;32m      7\u001b[0m     layers\u001b[38;5;241m.\u001b[39mDense(\u001b[38;5;241m128\u001b[39m, activation\u001b[38;5;241m=\u001b[39m\u001b[38;5;124m\"\u001b[39m\u001b[38;5;124mrelu\u001b[39m\u001b[38;5;124m\"\u001b[39m, kernel_regularizer\u001b[38;5;241m=\u001b[39mregularizers\u001b[38;5;241m.\u001b[39ml2(\u001b[38;5;241m0.01\u001b[39m)),\n\u001b[1;32m      8\u001b[0m     \n\u001b[1;32m      9\u001b[0m     layers\u001b[38;5;241m.\u001b[39mDense(\u001b[38;5;241m64\u001b[39m, activation\u001b[38;5;241m=\u001b[39m\u001b[38;5;124m\"\u001b[39m\u001b[38;5;124mrelu\u001b[39m\u001b[38;5;124m\"\u001b[39m, kernel_regularizer\u001b[38;5;241m=\u001b[39mregularizers\u001b[38;5;241m.\u001b[39ml2(\u001b[38;5;241m0.01\u001b[39m)),\n\u001b[1;32m     10\u001b[0m     layers\u001b[38;5;241m.\u001b[39mBatchNormalization(),\n\u001b[1;32m     11\u001b[0m     \n\u001b[1;32m     12\u001b[0m     layers\u001b[38;5;241m.\u001b[39mDense(\u001b[38;5;241m32\u001b[39m, activation\u001b[38;5;241m=\u001b[39m\u001b[38;5;124m\"\u001b[39m\u001b[38;5;124mrelu\u001b[39m\u001b[38;5;124m\"\u001b[39m, kernel_regularizer\u001b[38;5;241m=\u001b[39mregularizers\u001b[38;5;241m.\u001b[39ml2(\u001b[38;5;241m0.01\u001b[39m)),\n\u001b[1;32m     13\u001b[0m     layers\u001b[38;5;241m.\u001b[39mDropout(\u001b[38;5;241m0.2\u001b[39m),\n\u001b[1;32m     14\u001b[0m     \n\u001b[1;32m     15\u001b[0m     layers\u001b[38;5;241m.\u001b[39mDense(num_classes, activation\u001b[38;5;241m=\u001b[39m\u001b[38;5;124m\"\u001b[39m\u001b[38;5;124msigmoid\u001b[39m\u001b[38;5;124m\"\u001b[39m)  \u001b[38;5;66;03m# Capa de salida con activación sigmoid para clasificación binaria\u001b[39;00m\n\u001b[1;32m     16\u001b[0m ])\n",
      "\u001b[0;31mNameError\u001b[0m: name 'timesteps' is not defined"
     ]
    }
   ],
   "source": [
    "model = models.Sequential([\n",
    "    # Añadir capas Bidirectional LSTM\n",
    "    layers.Bidirectional(layers.LSTM(128, return_sequences=True), input_shape=(timesteps, features)),\n",
    "    layers.Bidirectional(layers.LSTM(64, return_sequences=False)),\n",
    "    \n",
    "    # Capas densas para la clasificación final\n",
    "    layers.Dense(128, activation=\"relu\", kernel_regularizer=regularizers.l2(0.01)),\n",
    "    \n",
    "    layers.Dense(64, activation=\"relu\", kernel_regularizer=regularizers.l2(0.01)),\n",
    "    layers.BatchNormalization(),\n",
    "    \n",
    "    layers.Dense(32, activation=\"relu\", kernel_regularizer=regularizers.l2(0.01)),\n",
    "    layers.Dropout(0.2),\n",
    "    \n",
    "    layers.Dense(num_classes, activation=\"sigmoid\")  # Capa de salida con activación sigmoid para clasificación binaria\n",
    "])"
   ]
  },
  {
   "cell_type": "code",
   "execution_count": 52,
   "id": "6b515f81-f10e-4f3c-afa5-d787986d1b38",
   "metadata": {},
   "outputs": [],
   "source": [
    "model = models.Sequential([\n",
    "    layers.Flatten(input_shape=input_shape),  # Aplanar la entrada para usar capas densas\n",
    "    layers.Dense(1025, activation=\"relu\"),  # Primera capa densa con 128 neuronas\n",
    "    layers.Dense(512, activation=\"relu\"),  # Segunda capa densa con 64 neuronas\n",
    "    layers.Dense(256, activation=\"relu\"),  # Segunda capa densa con 64 neuronas\n",
    "    layers.Dense(120, activation=\"relu\"),  # Segunda capa densa con 64 neuronas\n",
    "    layers.Dense(num_classes, activation=\"softmax\")\n",
    "])"
   ]
  },
  {
   "cell_type": "code",
   "execution_count": 16,
   "id": "7f00d92b-4952-46a7-9894-940c4380592d",
   "metadata": {},
   "outputs": [
    {
     "data": {
      "text/html": [
       "<pre style=\"white-space:pre;overflow-x:auto;line-height:normal;font-family:Menlo,'DejaVu Sans Mono',consolas,'Courier New',monospace\"><span style=\"font-weight: bold\">Model: \"sequential_1\"</span>\n",
       "</pre>\n"
      ],
      "text/plain": [
       "\u001b[1mModel: \"sequential_1\"\u001b[0m\n"
      ]
     },
     "metadata": {},
     "output_type": "display_data"
    },
    {
     "data": {
      "text/html": [
       "<pre style=\"white-space:pre;overflow-x:auto;line-height:normal;font-family:Menlo,'DejaVu Sans Mono',consolas,'Courier New',monospace\">┏━━━━━━━━━━━━━━━━━━━━━━━━━━━━━━━━━┳━━━━━━━━━━━━━━━━━━━━━━━━┳━━━━━━━━━━━━━━━┓\n",
       "┃<span style=\"font-weight: bold\"> Layer (type)                    </span>┃<span style=\"font-weight: bold\"> Output Shape           </span>┃<span style=\"font-weight: bold\">       Param # </span>┃\n",
       "┡━━━━━━━━━━━━━━━━━━━━━━━━━━━━━━━━━╇━━━━━━━━━━━━━━━━━━━━━━━━╇━━━━━━━━━━━━━━━┩\n",
       "│ bidirectional (<span style=\"color: #0087ff; text-decoration-color: #0087ff\">Bidirectional</span>)   │ (<span style=\"color: #00d7ff; text-decoration-color: #00d7ff\">None</span>, <span style=\"color: #00af00; text-decoration-color: #00af00\">768</span>, <span style=\"color: #00af00; text-decoration-color: #00af00\">256</span>)       │       <span style=\"color: #00af00; text-decoration-color: #00af00\">133,120</span> │\n",
       "├─────────────────────────────────┼────────────────────────┼───────────────┤\n",
       "│ bidirectional_1 (<span style=\"color: #0087ff; text-decoration-color: #0087ff\">Bidirectional</span>) │ (<span style=\"color: #00d7ff; text-decoration-color: #00d7ff\">None</span>, <span style=\"color: #00af00; text-decoration-color: #00af00\">128</span>)            │       <span style=\"color: #00af00; text-decoration-color: #00af00\">164,352</span> │\n",
       "├─────────────────────────────────┼────────────────────────┼───────────────┤\n",
       "│ dense_3 (<span style=\"color: #0087ff; text-decoration-color: #0087ff\">Dense</span>)                 │ (<span style=\"color: #00d7ff; text-decoration-color: #00d7ff\">None</span>, <span style=\"color: #00af00; text-decoration-color: #00af00\">128</span>)            │        <span style=\"color: #00af00; text-decoration-color: #00af00\">16,512</span> │\n",
       "├─────────────────────────────────┼────────────────────────┼───────────────┤\n",
       "│ batch_normalization             │ (<span style=\"color: #00d7ff; text-decoration-color: #00d7ff\">None</span>, <span style=\"color: #00af00; text-decoration-color: #00af00\">128</span>)            │           <span style=\"color: #00af00; text-decoration-color: #00af00\">512</span> │\n",
       "│ (<span style=\"color: #0087ff; text-decoration-color: #0087ff\">BatchNormalization</span>)            │                        │               │\n",
       "├─────────────────────────────────┼────────────────────────┼───────────────┤\n",
       "│ dropout (<span style=\"color: #0087ff; text-decoration-color: #0087ff\">Dropout</span>)               │ (<span style=\"color: #00d7ff; text-decoration-color: #00d7ff\">None</span>, <span style=\"color: #00af00; text-decoration-color: #00af00\">128</span>)            │             <span style=\"color: #00af00; text-decoration-color: #00af00\">0</span> │\n",
       "├─────────────────────────────────┼────────────────────────┼───────────────┤\n",
       "│ dense_4 (<span style=\"color: #0087ff; text-decoration-color: #0087ff\">Dense</span>)                 │ (<span style=\"color: #00d7ff; text-decoration-color: #00d7ff\">None</span>, <span style=\"color: #00af00; text-decoration-color: #00af00\">64</span>)             │         <span style=\"color: #00af00; text-decoration-color: #00af00\">8,256</span> │\n",
       "├─────────────────────────────────┼────────────────────────┼───────────────┤\n",
       "│ batch_normalization_1           │ (<span style=\"color: #00d7ff; text-decoration-color: #00d7ff\">None</span>, <span style=\"color: #00af00; text-decoration-color: #00af00\">64</span>)             │           <span style=\"color: #00af00; text-decoration-color: #00af00\">256</span> │\n",
       "│ (<span style=\"color: #0087ff; text-decoration-color: #0087ff\">BatchNormalization</span>)            │                        │               │\n",
       "├─────────────────────────────────┼────────────────────────┼───────────────┤\n",
       "│ dropout_1 (<span style=\"color: #0087ff; text-decoration-color: #0087ff\">Dropout</span>)             │ (<span style=\"color: #00d7ff; text-decoration-color: #00d7ff\">None</span>, <span style=\"color: #00af00; text-decoration-color: #00af00\">64</span>)             │             <span style=\"color: #00af00; text-decoration-color: #00af00\">0</span> │\n",
       "├─────────────────────────────────┼────────────────────────┼───────────────┤\n",
       "│ dense_5 (<span style=\"color: #0087ff; text-decoration-color: #0087ff\">Dense</span>)                 │ (<span style=\"color: #00d7ff; text-decoration-color: #00d7ff\">None</span>, <span style=\"color: #00af00; text-decoration-color: #00af00\">32</span>)             │         <span style=\"color: #00af00; text-decoration-color: #00af00\">2,080</span> │\n",
       "├─────────────────────────────────┼────────────────────────┼───────────────┤\n",
       "│ batch_normalization_2           │ (<span style=\"color: #00d7ff; text-decoration-color: #00d7ff\">None</span>, <span style=\"color: #00af00; text-decoration-color: #00af00\">32</span>)             │           <span style=\"color: #00af00; text-decoration-color: #00af00\">128</span> │\n",
       "│ (<span style=\"color: #0087ff; text-decoration-color: #0087ff\">BatchNormalization</span>)            │                        │               │\n",
       "├─────────────────────────────────┼────────────────────────┼───────────────┤\n",
       "│ dropout_2 (<span style=\"color: #0087ff; text-decoration-color: #0087ff\">Dropout</span>)             │ (<span style=\"color: #00d7ff; text-decoration-color: #00d7ff\">None</span>, <span style=\"color: #00af00; text-decoration-color: #00af00\">32</span>)             │             <span style=\"color: #00af00; text-decoration-color: #00af00\">0</span> │\n",
       "├─────────────────────────────────┼────────────────────────┼───────────────┤\n",
       "│ dense_6 (<span style=\"color: #0087ff; text-decoration-color: #0087ff\">Dense</span>)                 │ (<span style=\"color: #00d7ff; text-decoration-color: #00d7ff\">None</span>, <span style=\"color: #00af00; text-decoration-color: #00af00\">1</span>)              │            <span style=\"color: #00af00; text-decoration-color: #00af00\">33</span> │\n",
       "└─────────────────────────────────┴────────────────────────┴───────────────┘\n",
       "</pre>\n"
      ],
      "text/plain": [
       "┏━━━━━━━━━━━━━━━━━━━━━━━━━━━━━━━━━┳━━━━━━━━━━━━━━━━━━━━━━━━┳━━━━━━━━━━━━━━━┓\n",
       "┃\u001b[1m \u001b[0m\u001b[1mLayer (type)                   \u001b[0m\u001b[1m \u001b[0m┃\u001b[1m \u001b[0m\u001b[1mOutput Shape          \u001b[0m\u001b[1m \u001b[0m┃\u001b[1m \u001b[0m\u001b[1m      Param #\u001b[0m\u001b[1m \u001b[0m┃\n",
       "┡━━━━━━━━━━━━━━━━━━━━━━━━━━━━━━━━━╇━━━━━━━━━━━━━━━━━━━━━━━━╇━━━━━━━━━━━━━━━┩\n",
       "│ bidirectional (\u001b[38;5;33mBidirectional\u001b[0m)   │ (\u001b[38;5;45mNone\u001b[0m, \u001b[38;5;34m768\u001b[0m, \u001b[38;5;34m256\u001b[0m)       │       \u001b[38;5;34m133,120\u001b[0m │\n",
       "├─────────────────────────────────┼────────────────────────┼───────────────┤\n",
       "│ bidirectional_1 (\u001b[38;5;33mBidirectional\u001b[0m) │ (\u001b[38;5;45mNone\u001b[0m, \u001b[38;5;34m128\u001b[0m)            │       \u001b[38;5;34m164,352\u001b[0m │\n",
       "├─────────────────────────────────┼────────────────────────┼───────────────┤\n",
       "│ dense_3 (\u001b[38;5;33mDense\u001b[0m)                 │ (\u001b[38;5;45mNone\u001b[0m, \u001b[38;5;34m128\u001b[0m)            │        \u001b[38;5;34m16,512\u001b[0m │\n",
       "├─────────────────────────────────┼────────────────────────┼───────────────┤\n",
       "│ batch_normalization             │ (\u001b[38;5;45mNone\u001b[0m, \u001b[38;5;34m128\u001b[0m)            │           \u001b[38;5;34m512\u001b[0m │\n",
       "│ (\u001b[38;5;33mBatchNormalization\u001b[0m)            │                        │               │\n",
       "├─────────────────────────────────┼────────────────────────┼───────────────┤\n",
       "│ dropout (\u001b[38;5;33mDropout\u001b[0m)               │ (\u001b[38;5;45mNone\u001b[0m, \u001b[38;5;34m128\u001b[0m)            │             \u001b[38;5;34m0\u001b[0m │\n",
       "├─────────────────────────────────┼────────────────────────┼───────────────┤\n",
       "│ dense_4 (\u001b[38;5;33mDense\u001b[0m)                 │ (\u001b[38;5;45mNone\u001b[0m, \u001b[38;5;34m64\u001b[0m)             │         \u001b[38;5;34m8,256\u001b[0m │\n",
       "├─────────────────────────────────┼────────────────────────┼───────────────┤\n",
       "│ batch_normalization_1           │ (\u001b[38;5;45mNone\u001b[0m, \u001b[38;5;34m64\u001b[0m)             │           \u001b[38;5;34m256\u001b[0m │\n",
       "│ (\u001b[38;5;33mBatchNormalization\u001b[0m)            │                        │               │\n",
       "├─────────────────────────────────┼────────────────────────┼───────────────┤\n",
       "│ dropout_1 (\u001b[38;5;33mDropout\u001b[0m)             │ (\u001b[38;5;45mNone\u001b[0m, \u001b[38;5;34m64\u001b[0m)             │             \u001b[38;5;34m0\u001b[0m │\n",
       "├─────────────────────────────────┼────────────────────────┼───────────────┤\n",
       "│ dense_5 (\u001b[38;5;33mDense\u001b[0m)                 │ (\u001b[38;5;45mNone\u001b[0m, \u001b[38;5;34m32\u001b[0m)             │         \u001b[38;5;34m2,080\u001b[0m │\n",
       "├─────────────────────────────────┼────────────────────────┼───────────────┤\n",
       "│ batch_normalization_2           │ (\u001b[38;5;45mNone\u001b[0m, \u001b[38;5;34m32\u001b[0m)             │           \u001b[38;5;34m128\u001b[0m │\n",
       "│ (\u001b[38;5;33mBatchNormalization\u001b[0m)            │                        │               │\n",
       "├─────────────────────────────────┼────────────────────────┼───────────────┤\n",
       "│ dropout_2 (\u001b[38;5;33mDropout\u001b[0m)             │ (\u001b[38;5;45mNone\u001b[0m, \u001b[38;5;34m32\u001b[0m)             │             \u001b[38;5;34m0\u001b[0m │\n",
       "├─────────────────────────────────┼────────────────────────┼───────────────┤\n",
       "│ dense_6 (\u001b[38;5;33mDense\u001b[0m)                 │ (\u001b[38;5;45mNone\u001b[0m, \u001b[38;5;34m1\u001b[0m)              │            \u001b[38;5;34m33\u001b[0m │\n",
       "└─────────────────────────────────┴────────────────────────┴───────────────┘\n"
      ]
     },
     "metadata": {},
     "output_type": "display_data"
    },
    {
     "data": {
      "text/html": [
       "<pre style=\"white-space:pre;overflow-x:auto;line-height:normal;font-family:Menlo,'DejaVu Sans Mono',consolas,'Courier New',monospace\"><span style=\"font-weight: bold\"> Total params: </span><span style=\"color: #00af00; text-decoration-color: #00af00\">325,249</span> (1.24 MB)\n",
       "</pre>\n"
      ],
      "text/plain": [
       "\u001b[1m Total params: \u001b[0m\u001b[38;5;34m325,249\u001b[0m (1.24 MB)\n"
      ]
     },
     "metadata": {},
     "output_type": "display_data"
    },
    {
     "data": {
      "text/html": [
       "<pre style=\"white-space:pre;overflow-x:auto;line-height:normal;font-family:Menlo,'DejaVu Sans Mono',consolas,'Courier New',monospace\"><span style=\"font-weight: bold\"> Trainable params: </span><span style=\"color: #00af00; text-decoration-color: #00af00\">324,801</span> (1.24 MB)\n",
       "</pre>\n"
      ],
      "text/plain": [
       "\u001b[1m Trainable params: \u001b[0m\u001b[38;5;34m324,801\u001b[0m (1.24 MB)\n"
      ]
     },
     "metadata": {},
     "output_type": "display_data"
    },
    {
     "data": {
      "text/html": [
       "<pre style=\"white-space:pre;overflow-x:auto;line-height:normal;font-family:Menlo,'DejaVu Sans Mono',consolas,'Courier New',monospace\"><span style=\"font-weight: bold\"> Non-trainable params: </span><span style=\"color: #00af00; text-decoration-color: #00af00\">448</span> (1.75 KB)\n",
       "</pre>\n"
      ],
      "text/plain": [
       "\u001b[1m Non-trainable params: \u001b[0m\u001b[38;5;34m448\u001b[0m (1.75 KB)\n"
      ]
     },
     "metadata": {},
     "output_type": "display_data"
    },
    {
     "name": "stdout",
     "output_type": "stream",
     "text": [
      "Epoch 1/10\n",
      "\u001b[1m765/765\u001b[0m \u001b[32m━━━━━━━━━━━━━━━━━━━━\u001b[0m\u001b[37m\u001b[0m \u001b[1m83s\u001b[0m 102ms/step - accuracy: 0.5058 - loss: 3.4732 - val_accuracy: 0.4386 - val_loss: 45.8925 - learning_rate: 0.0010\n",
      "Epoch 2/10\n",
      "\u001b[1m765/765\u001b[0m \u001b[32m━━━━━━━━━━━━━━━━━━━━\u001b[0m\u001b[37m\u001b[0m \u001b[1m100s\u001b[0m 130ms/step - accuracy: 0.4435 - loss: 2.9106 - val_accuracy: 0.4386 - val_loss: 12.5266 - learning_rate: 0.0010\n",
      "Epoch 3/10\n",
      "\u001b[1m765/765\u001b[0m \u001b[32m━━━━━━━━━━━━━━━━━━━━\u001b[0m\u001b[37m\u001b[0m \u001b[1m80s\u001b[0m 104ms/step - accuracy: 0.4464 - loss: 2.6003 - val_accuracy: 0.4386 - val_loss: 14.5986 - learning_rate: 0.0010\n",
      "Epoch 4/10\n",
      "\u001b[1m765/765\u001b[0m \u001b[32m━━━━━━━━━━━━━━━━━━━━\u001b[0m\u001b[37m\u001b[0m \u001b[1m73s\u001b[0m 96ms/step - accuracy: 0.4180 - loss: 2.3054 - val_accuracy: 0.4386 - val_loss: 9.2591 - learning_rate: 0.0010\n",
      "Epoch 5/10\n",
      "\u001b[1m765/765\u001b[0m \u001b[32m━━━━━━━━━━━━━━━━━━━━\u001b[0m\u001b[37m\u001b[0m \u001b[1m74s\u001b[0m 97ms/step - accuracy: 0.3971 - loss: 2.0352 - val_accuracy: 0.4386 - val_loss: 3.3851 - learning_rate: 0.0010\n",
      "Epoch 6/10\n",
      "\u001b[1m765/765\u001b[0m \u001b[32m━━━━━━━━━━━━━━━━━━━━\u001b[0m\u001b[37m\u001b[0m \u001b[1m75s\u001b[0m 98ms/step - accuracy: 0.4221 - loss: 1.7942 - val_accuracy: 0.4386 - val_loss: 2.4839 - learning_rate: 0.0010\n",
      "Epoch 7/10\n",
      "\u001b[1m765/765\u001b[0m \u001b[32m━━━━━━━━━━━━━━━━━━━━\u001b[0m\u001b[37m\u001b[0m \u001b[1m74s\u001b[0m 97ms/step - accuracy: 0.4073 - loss: 1.6223 - val_accuracy: 0.5614 - val_loss: 1.1014 - learning_rate: 0.0010\n",
      "Epoch 8/10\n",
      "\u001b[1m765/765\u001b[0m \u001b[32m━━━━━━━━━━━━━━━━━━━━\u001b[0m\u001b[37m\u001b[0m \u001b[1m76s\u001b[0m 99ms/step - accuracy: 0.4121 - loss: 1.4680 - val_accuracy: 0.5614 - val_loss: 0.9309 - learning_rate: 0.0010\n",
      "Epoch 9/10\n",
      "\u001b[1m765/765\u001b[0m \u001b[32m━━━━━━━━━━━━━━━━━━━━\u001b[0m\u001b[37m\u001b[0m \u001b[1m104s\u001b[0m 136ms/step - accuracy: 0.3779 - loss: 1.3815 - val_accuracy: 0.5614 - val_loss: 0.8541 - learning_rate: 0.0010\n",
      "Epoch 10/10\n",
      "\u001b[1m765/765\u001b[0m \u001b[32m━━━━━━━━━━━━━━━━━━━━\u001b[0m\u001b[37m\u001b[0m \u001b[1m90s\u001b[0m 118ms/step - accuracy: 0.4111 - loss: 1.3106 - val_accuracy: 0.4386 - val_loss: 1.0333 - learning_rate: 0.0010\n"
     ]
    }
   ],
   "source": [
    "loss = tf.keras.losses.BinaryCrossentropy(from_logits=False)\n",
    "optimizer = keras.optimizers.Adam(learning_rate= 0.001)\n",
    "reduce_lr = ReduceLROnPlateau(monitor='val_loss', factor=0.2,\n",
    "                              patience=2, min_lr=1e-6,)\n",
    "early_stop = tf.keras.callbacks.EarlyStopping(monitor='val_loss', verbose=0, patience=60)\n",
    "model.compile(loss=loss, optimizer=optimizer ,metrics=['accuracy'])\n",
    "model.summary()\n",
    "# Train the model\n",
    "class_weights = {0: 3., 1: 1.} \n",
    "history = model.fit(X_train_formated, y_train_formated, epochs=10, batch_size=2, validation_split=0.2, verbose=1, callbacks=[reduce_lr,early_stop],class_weight=class_weights)\n"
   ]
  },
  {
   "cell_type": "code",
   "execution_count": 40,
   "id": "d71592b2-6690-4448-87f6-ff9603ed6e04",
   "metadata": {
    "scrolled": true
   },
   "outputs": [
    {
     "ename": "ValueError",
     "evalue": "Exception encountered when calling Sequential.call().\n\n\u001b[1mCannot take the length of shape with unknown rank.\u001b[0m\n\nArguments received by Sequential.call():\n  • inputs=tf.Tensor(shape=<unknown>, dtype=float32)\n  • training=False\n  • mask=None",
     "output_type": "error",
     "traceback": [
      "\u001b[0;31m---------------------------------------------------------------------------\u001b[0m",
      "\u001b[0;31mValueError\u001b[0m                                Traceback (most recent call last)",
      "Cell \u001b[0;32mIn[40], line 2\u001b[0m\n\u001b[1;32m      1\u001b[0m \u001b[38;5;66;03m# Reshape input data to match model's expected input shape\u001b[39;00m\n\u001b[0;32m----> 2\u001b[0m y_pred \u001b[38;5;241m=\u001b[39m \u001b[43mmodel\u001b[49m\u001b[38;5;241;43m.\u001b[39;49m\u001b[43mpredict\u001b[49m\u001b[43m(\u001b[49m\u001b[43mX_test_formated\u001b[49m\u001b[43m,\u001b[49m\u001b[43m \u001b[49m\u001b[43mverbose\u001b[49m\u001b[38;5;241;43m=\u001b[39;49m\u001b[38;5;241;43m1\u001b[39;49m\u001b[43m)\u001b[49m\n\u001b[1;32m      3\u001b[0m y_pred_bool \u001b[38;5;241m=\u001b[39m np\u001b[38;5;241m.\u001b[39mround(y_pred)\n\u001b[1;32m      5\u001b[0m loss, accuracy \u001b[38;5;241m=\u001b[39m model\u001b[38;5;241m.\u001b[39mevaluate(X_test_formated, y_test_formated)\n",
      "File \u001b[0;32m/usr/local/lib/python3.11/dist-packages/keras/src/utils/traceback_utils.py:122\u001b[0m, in \u001b[0;36mfilter_traceback.<locals>.error_handler\u001b[0;34m(*args, **kwargs)\u001b[0m\n\u001b[1;32m    119\u001b[0m     filtered_tb \u001b[38;5;241m=\u001b[39m _process_traceback_frames(e\u001b[38;5;241m.\u001b[39m__traceback__)\n\u001b[1;32m    120\u001b[0m     \u001b[38;5;66;03m# To get the full stack trace, call:\u001b[39;00m\n\u001b[1;32m    121\u001b[0m     \u001b[38;5;66;03m# `keras.config.disable_traceback_filtering()`\u001b[39;00m\n\u001b[0;32m--> 122\u001b[0m     \u001b[38;5;28;01mraise\u001b[39;00m e\u001b[38;5;241m.\u001b[39mwith_traceback(filtered_tb) \u001b[38;5;28;01mfrom\u001b[39;00m \u001b[38;5;28;01mNone\u001b[39;00m\n\u001b[1;32m    123\u001b[0m \u001b[38;5;28;01mfinally\u001b[39;00m:\n\u001b[1;32m    124\u001b[0m     \u001b[38;5;28;01mdel\u001b[39;00m filtered_tb\n",
      "File \u001b[0;32m/usr/local/lib/python3.11/dist-packages/keras/src/utils/traceback_utils.py:122\u001b[0m, in \u001b[0;36mfilter_traceback.<locals>.error_handler\u001b[0;34m(*args, **kwargs)\u001b[0m\n\u001b[1;32m    119\u001b[0m     filtered_tb \u001b[38;5;241m=\u001b[39m _process_traceback_frames(e\u001b[38;5;241m.\u001b[39m__traceback__)\n\u001b[1;32m    120\u001b[0m     \u001b[38;5;66;03m# To get the full stack trace, call:\u001b[39;00m\n\u001b[1;32m    121\u001b[0m     \u001b[38;5;66;03m# `keras.config.disable_traceback_filtering()`\u001b[39;00m\n\u001b[0;32m--> 122\u001b[0m     \u001b[38;5;28;01mraise\u001b[39;00m e\u001b[38;5;241m.\u001b[39mwith_traceback(filtered_tb) \u001b[38;5;28;01mfrom\u001b[39;00m \u001b[38;5;28;01mNone\u001b[39;00m\n\u001b[1;32m    123\u001b[0m \u001b[38;5;28;01mfinally\u001b[39;00m:\n\u001b[1;32m    124\u001b[0m     \u001b[38;5;28;01mdel\u001b[39;00m filtered_tb\n",
      "\u001b[0;31mValueError\u001b[0m: Exception encountered when calling Sequential.call().\n\n\u001b[1mCannot take the length of shape with unknown rank.\u001b[0m\n\nArguments received by Sequential.call():\n  • inputs=tf.Tensor(shape=<unknown>, dtype=float32)\n  • training=False\n  • mask=None"
     ]
    }
   ],
   "source": [
    "# Reshape input data to match model's expected input shape\n",
    "y_pred = model.predict(X_test_formated, verbose=1)\n",
    "y_pred_bool = np.round(y_pred)\n",
    "\n",
    "loss, accuracy = model.evaluate(X_test_formated, y_test_formated)\n",
    "y_test_formated_values=y_test_formated\n",
    "y_pred_bool = np.where(y_pred_bool > 0.5, 1, 0).reshape(-1)\n",
    "print(f'Loss: {loss}, Accuracy: {accuracy}')\n",
    "print(classification_report(y_test_formated_values, y_pred_bool))"
   ]
  },
  {
   "cell_type": "code",
   "execution_count": 41,
   "id": "99c774a5-38e5-4138-9e2b-1bb89a230294",
   "metadata": {},
   "outputs": [
    {
     "name": "stdout",
     "output_type": "stream",
     "text": [
      "Model input shape: (None, 768, 1)\n",
      "Expected input shape: (768, 1)\n",
      "X_test_formated shape before reshaping: (479, 768, 1)\n",
      "y_test_formated shape: (479,)\n",
      "X_test_formated shape after reshaping: (479, 768, 1)\n",
      "y_test_formated shape: (479,)\n",
      "\u001b[1m15/15\u001b[0m \u001b[32m━━━━━━━━━━━━━━━━━━━━\u001b[0m\u001b[37m\u001b[0m \u001b[1m1s\u001b[0m 66ms/step - accuracy: 0.4330 - loss: 1.0401\n",
      "Loss: 1.057687759399414, Accuracy: 0.41753652691841125\n"
     ]
    },
    {
     "ename": "ValueError",
     "evalue": "Exception encountered when calling Sequential.call().\n\n\u001b[1mCannot take the length of shape with unknown rank.\u001b[0m\n\nArguments received by Sequential.call():\n  • inputs=tf.Tensor(shape=<unknown>, dtype=float32)\n  • training=False\n  • mask=None",
     "output_type": "error",
     "traceback": [
      "\u001b[0;31m---------------------------------------------------------------------------\u001b[0m",
      "\u001b[0;31mValueError\u001b[0m                                Traceback (most recent call last)",
      "Cell \u001b[0;32mIn[41], line 24\u001b[0m\n\u001b[1;32m     21\u001b[0m \u001b[38;5;28mprint\u001b[39m(\u001b[38;5;124mf\u001b[39m\u001b[38;5;124m'\u001b[39m\u001b[38;5;124mLoss: \u001b[39m\u001b[38;5;132;01m{\u001b[39;00mloss\u001b[38;5;132;01m}\u001b[39;00m\u001b[38;5;124m, Accuracy: \u001b[39m\u001b[38;5;132;01m{\u001b[39;00maccuracy\u001b[38;5;132;01m}\u001b[39;00m\u001b[38;5;124m'\u001b[39m)\n\u001b[1;32m     23\u001b[0m \u001b[38;5;66;03m# Make predictions\u001b[39;00m\n\u001b[0;32m---> 24\u001b[0m y_pred \u001b[38;5;241m=\u001b[39m \u001b[43mmodel\u001b[49m\u001b[38;5;241;43m.\u001b[39;49m\u001b[43mpredict\u001b[49m\u001b[43m(\u001b[49m\u001b[43mX_test_formated\u001b[49m\u001b[43m,\u001b[49m\u001b[43m \u001b[49m\u001b[43mverbose\u001b[49m\u001b[38;5;241;43m=\u001b[39;49m\u001b[38;5;241;43m1\u001b[39;49m\u001b[43m)\u001b[49m\n\u001b[1;32m     26\u001b[0m \u001b[38;5;66;03m# Convert predictions to binary\u001b[39;00m\n\u001b[1;32m     27\u001b[0m y_pred_bool \u001b[38;5;241m=\u001b[39m np\u001b[38;5;241m.\u001b[39mround(y_pred)\u001b[38;5;241m.\u001b[39mastype(\u001b[38;5;28mint\u001b[39m)\n",
      "File \u001b[0;32m/usr/local/lib/python3.11/dist-packages/keras/src/utils/traceback_utils.py:122\u001b[0m, in \u001b[0;36mfilter_traceback.<locals>.error_handler\u001b[0;34m(*args, **kwargs)\u001b[0m\n\u001b[1;32m    119\u001b[0m     filtered_tb \u001b[38;5;241m=\u001b[39m _process_traceback_frames(e\u001b[38;5;241m.\u001b[39m__traceback__)\n\u001b[1;32m    120\u001b[0m     \u001b[38;5;66;03m# To get the full stack trace, call:\u001b[39;00m\n\u001b[1;32m    121\u001b[0m     \u001b[38;5;66;03m# `keras.config.disable_traceback_filtering()`\u001b[39;00m\n\u001b[0;32m--> 122\u001b[0m     \u001b[38;5;28;01mraise\u001b[39;00m e\u001b[38;5;241m.\u001b[39mwith_traceback(filtered_tb) \u001b[38;5;28;01mfrom\u001b[39;00m \u001b[38;5;28;01mNone\u001b[39;00m\n\u001b[1;32m    123\u001b[0m \u001b[38;5;28;01mfinally\u001b[39;00m:\n\u001b[1;32m    124\u001b[0m     \u001b[38;5;28;01mdel\u001b[39;00m filtered_tb\n",
      "File \u001b[0;32m/usr/local/lib/python3.11/dist-packages/keras/src/utils/traceback_utils.py:122\u001b[0m, in \u001b[0;36mfilter_traceback.<locals>.error_handler\u001b[0;34m(*args, **kwargs)\u001b[0m\n\u001b[1;32m    119\u001b[0m     filtered_tb \u001b[38;5;241m=\u001b[39m _process_traceback_frames(e\u001b[38;5;241m.\u001b[39m__traceback__)\n\u001b[1;32m    120\u001b[0m     \u001b[38;5;66;03m# To get the full stack trace, call:\u001b[39;00m\n\u001b[1;32m    121\u001b[0m     \u001b[38;5;66;03m# `keras.config.disable_traceback_filtering()`\u001b[39;00m\n\u001b[0;32m--> 122\u001b[0m     \u001b[38;5;28;01mraise\u001b[39;00m e\u001b[38;5;241m.\u001b[39mwith_traceback(filtered_tb) \u001b[38;5;28;01mfrom\u001b[39;00m \u001b[38;5;28;01mNone\u001b[39;00m\n\u001b[1;32m    123\u001b[0m \u001b[38;5;28;01mfinally\u001b[39;00m:\n\u001b[1;32m    124\u001b[0m     \u001b[38;5;28;01mdel\u001b[39;00m filtered_tb\n",
      "\u001b[0;31mValueError\u001b[0m: Exception encountered when calling Sequential.call().\n\n\u001b[1mCannot take the length of shape with unknown rank.\u001b[0m\n\nArguments received by Sequential.call():\n  • inputs=tf.Tensor(shape=<unknown>, dtype=float32)\n  • training=False\n  • mask=None"
     ]
    }
   ],
   "source": [
    "# Check and print the model's expected input shape\n",
    "print(\"Model input shape:\", model.input_shape)\n",
    "\n",
    "# Assuming the model expects (None, 768, 1)\n",
    "expected_shape = model.input_shape[1:]  # Remove the batch size dimension\n",
    "print(\"Expected input shape:\", expected_shape)\n",
    "\n",
    "# Print shapes of data before reshaping\n",
    "print(\"X_test_formated shape before reshaping:\", X_test_formated.shape)\n",
    "print(\"y_test_formated shape:\", y_test_formated.shape)\n",
    "\n",
    "# Reshape input data to match model's expected input shape\n",
    "X_test_formated = X_test_formated.reshape((X_test_formated.shape[0],) + expected_shape)\n",
    "\n",
    "# Print shapes of data after reshaping\n",
    "print(\"X_test_formated shape after reshaping:\", X_test_formated.shape)\n",
    "print(\"y_test_formated shape:\", y_test_formated.shape)\n",
    "\n",
    "# Evaluate the model with the correctly shaped data\n",
    "loss, accuracy = model.evaluate(X_test_formated, y_test_formated)\n",
    "print(f'Loss: {loss}, Accuracy: {accuracy}')\n",
    "\n",
    "# Make predictions\n",
    "y_pred = model.predict(X_test_formated, verbose=1)\n",
    "\n",
    "# Convert predictions to binary\n",
    "y_pred_bool = np.round(y_pred).astype(int)\n",
    "\n",
    "# Further process predictions if needed\n",
    "y_test_formated_values = y_test_formated\n",
    "y_pred_bool = np.where(y_pred_bool > 0.5, 1, 0).reshape(-1)\n",
    "\n",
    "# Print classification report\n",
    "print(classification_report(y_test_formated_values, y_pred_bool))\n"
   ]
  },
  {
   "cell_type": "code",
   "execution_count": 8,
   "id": "1df3f312-2120-4d1e-a71b-1ad2b20e2a10",
   "metadata": {},
   "outputs": [],
   "source": [
    "\n",
    "\n",
    "# Define the HyperModel\n",
    "def build_model(hp):\n",
    "    lr = hp.Float('learning_rate', min_value=1e-4, max_value=1e-1, sampling='log')\n",
    "    model = keras.Sequential()\n",
    "    for i in range(0, hp.Int(\"num_layers\", 1, 6)):\n",
    "        model.add(\n",
    "            tf.keras.layers.Dense(units = hp.Int(f\"unit_{i}\", 15, 80, step = 5), \n",
    "                                     activation='relu'\n",
    "                                     )\n",
    "            \n",
    "        )\n",
    "        model.add(\n",
    "            tf.keras.layers.Dropout(hp.Float(f\"drop_{i}\", min_value=0.00, max_value=0.3, step=0.05)\n",
    "                                     )\n",
    "            \n",
    "        )\n",
    "\n",
    "\n",
    "# Tune the learning rate for the optimizer\n",
    "    model.add(layers.Dense(1, activation=\"softmax\"))\n",
    "    model.compile(optimizer=keras.optimizers.Adam(learning_rate=hp.Float('learning_rate', min_value=1e-5, max_value=1e-2, sampling='LOG')),\n",
    "                      loss=tf.keras.losses.BinaryCrossentropy(from_logits=False),\n",
    "                      metrics=['accuracy'])\n",
    "    return model\n",
    "\n",
    "\n"
   ]
  },
  {
   "cell_type": "code",
   "execution_count": 9,
   "id": "c30233aa-8a45-47c7-b2f6-3d81c9ad56f0",
   "metadata": {},
   "outputs": [
    {
     "name": "stdout",
     "output_type": "stream",
     "text": [
      "Reloading Tuner from tuner_dir-pt4/audio_classification-pt4/tuner0.json\n",
      "Search space summary\n",
      "Default search space size: 14\n",
      "learning_rate (Float)\n",
      "{'default': 0.0001, 'conditions': [], 'min_value': 0.0001, 'max_value': 0.1, 'step': None, 'sampling': 'log'}\n",
      "num_layers (Int)\n",
      "{'default': None, 'conditions': [], 'min_value': 1, 'max_value': 6, 'step': 1, 'sampling': 'linear'}\n",
      "unit_0 (Int)\n",
      "{'default': None, 'conditions': [], 'min_value': 15, 'max_value': 80, 'step': 5, 'sampling': 'linear'}\n",
      "drop_0 (Float)\n",
      "{'default': 0.0, 'conditions': [], 'min_value': 0.0, 'max_value': 0.3, 'step': 0.05, 'sampling': 'linear'}\n",
      "unit_1 (Int)\n",
      "{'default': None, 'conditions': [], 'min_value': 15, 'max_value': 80, 'step': 5, 'sampling': 'linear'}\n",
      "drop_1 (Float)\n",
      "{'default': 0.0, 'conditions': [], 'min_value': 0.0, 'max_value': 0.3, 'step': 0.05, 'sampling': 'linear'}\n",
      "unit_2 (Int)\n",
      "{'default': None, 'conditions': [], 'min_value': 15, 'max_value': 80, 'step': 5, 'sampling': 'linear'}\n",
      "drop_2 (Float)\n",
      "{'default': 0.0, 'conditions': [], 'min_value': 0.0, 'max_value': 0.3, 'step': 0.05, 'sampling': 'linear'}\n",
      "unit_3 (Int)\n",
      "{'default': None, 'conditions': [], 'min_value': 15, 'max_value': 80, 'step': 5, 'sampling': 'linear'}\n",
      "drop_3 (Float)\n",
      "{'default': 0.0, 'conditions': [], 'min_value': 0.0, 'max_value': 0.3, 'step': 0.05, 'sampling': 'linear'}\n",
      "unit_4 (Int)\n",
      "{'default': None, 'conditions': [], 'min_value': 15, 'max_value': 80, 'step': 5, 'sampling': 'linear'}\n",
      "drop_4 (Float)\n",
      "{'default': 0.0, 'conditions': [], 'min_value': 0.0, 'max_value': 0.3, 'step': 0.05, 'sampling': 'linear'}\n",
      "unit_5 (Int)\n",
      "{'default': None, 'conditions': [], 'min_value': 15, 'max_value': 80, 'step': 5, 'sampling': 'linear'}\n",
      "drop_5 (Float)\n",
      "{'default': 0.0, 'conditions': [], 'min_value': 0.0, 'max_value': 0.3, 'step': 0.05, 'sampling': 'linear'}\n"
     ]
    },
    {
     "name": "stderr",
     "output_type": "stream",
     "text": [
      "2024-07-01 16:34:39.500216: I external/local_xla/xla/stream_executor/cuda/cuda_executor.cc:984] could not open file to read NUMA node: /sys/bus/pci/devices/0000:07:00.0/numa_node\n",
      "Your kernel may have been built without NUMA support.\n",
      "2024-07-01 16:34:39.500324: I external/local_xla/xla/stream_executor/cuda/cuda_executor.cc:984] could not open file to read NUMA node: /sys/bus/pci/devices/0000:07:00.0/numa_node\n",
      "Your kernel may have been built without NUMA support.\n",
      "2024-07-01 16:34:39.500358: I external/local_xla/xla/stream_executor/cuda/cuda_executor.cc:984] could not open file to read NUMA node: /sys/bus/pci/devices/0000:07:00.0/numa_node\n",
      "Your kernel may have been built without NUMA support.\n",
      "2024-07-01 16:34:39.653897: I external/local_xla/xla/stream_executor/cuda/cuda_executor.cc:984] could not open file to read NUMA node: /sys/bus/pci/devices/0000:07:00.0/numa_node\n",
      "Your kernel may have been built without NUMA support.\n",
      "2024-07-01 16:34:39.653963: I external/local_xla/xla/stream_executor/cuda/cuda_executor.cc:984] could not open file to read NUMA node: /sys/bus/pci/devices/0000:07:00.0/numa_node\n",
      "Your kernel may have been built without NUMA support.\n",
      "2024-07-01 16:34:39.653974: I tensorflow/core/common_runtime/gpu/gpu_device.cc:2019] Could not identify NUMA node of platform GPU id 0, defaulting to 0.  Your kernel may not have been built with NUMA support.\n",
      "2024-07-01 16:34:39.654012: I external/local_xla/xla/stream_executor/cuda/cuda_executor.cc:984] could not open file to read NUMA node: /sys/bus/pci/devices/0000:07:00.0/numa_node\n",
      "Your kernel may have been built without NUMA support.\n",
      "2024-07-01 16:34:39.654752: I tensorflow/core/common_runtime/gpu/gpu_device.cc:1928] Created device /job:localhost/replica:0/task:0/device:GPU:0 with 6717 MB memory:  -> device: 0, name: NVIDIA GeForce GTX 1070, pci bus id: 0000:07:00.0, compute capability: 6.1\n"
     ]
    }
   ],
   "source": [
    "# Initialize the RandomSearch tuner\n",
    "tuner = kt.Hyperband(\n",
    "    hypermodel=build_model,\n",
    "    objective=\"val_accuracy\",\n",
    "    max_epochs = 10,\n",
    "    hyperband_iterations = 3,\n",
    "    directory='tuner_dir-pt4',\n",
    "    project_name='audio_classification-pt4'\n",
    ")\n",
    "# Display a summary of the search space\n",
    "tuner.search_space_summary()\n"
   ]
  },
  {
   "cell_type": "code",
   "execution_count": 10,
   "id": "051fc2dd-2d17-4667-9757-05bf727cc3a7",
   "metadata": {},
   "outputs": [
    {
     "name": "stdout",
     "output_type": "stream",
     "text": [
      "Trial 90 Complete [00h 00m 40s]\n",
      "val_accuracy: 0.5766016840934753\n",
      "\n",
      "Best val_accuracy So Far: 0.5766016840934753\n",
      "Total elapsed time: 09h 01m 09s\n",
      "\u001b[1m19/19\u001b[0m \u001b[32m━━━━━━━━━━━━━━━━━━━━\u001b[0m\u001b[37m\u001b[0m \u001b[1m1s\u001b[0m 32ms/step - accuracy: 0.6051 - loss: 0.6702\n",
      "Loss: 0.6778860688209534, Accuracy: 0.5852842926979065\n",
      "\u001b[1m 6/19\u001b[0m \u001b[32m━━━━━━\u001b[0m\u001b[37m━━━━━━━━━━━━━━\u001b[0m \u001b[1m0s\u001b[0m 10ms/step "
     ]
    },
    {
     "name": "stderr",
     "output_type": "stream",
     "text": [
      "/usr/local/lib/python3.11/dist-packages/keras/src/ops/nn.py:545: UserWarning: You are using a softmax over axis -1 of a tensor of shape (32, 1). This axis has size 1. The softmax operation will always return the value 1, which is likely not what you intended. Did you mean to use a sigmoid instead?\n",
      "  warnings.warn(\n"
     ]
    },
    {
     "name": "stdout",
     "output_type": "stream",
     "text": [
      "\u001b[1m19/19\u001b[0m \u001b[32m━━━━━━━━━━━━━━━━━━━━\u001b[0m\u001b[37m\u001b[0m \u001b[1m0s\u001b[0m 16ms/step\n",
      "              precision    recall  f1-score   support\n",
      "\n",
      "         0.0       0.00      0.00      0.00       248\n",
      "         1.0       0.59      1.00      0.74       350\n",
      "\n",
      "    accuracy                           0.59       598\n",
      "   macro avg       0.29      0.50      0.37       598\n",
      "weighted avg       0.34      0.59      0.43       598\n",
      "\n"
     ]
    },
    {
     "name": "stderr",
     "output_type": "stream",
     "text": [
      "/usr/local/lib/python3.11/dist-packages/sklearn/metrics/_classification.py:1517: UndefinedMetricWarning: Precision is ill-defined and being set to 0.0 in labels with no predicted samples. Use `zero_division` parameter to control this behavior.\n",
      "  _warn_prf(average, modifier, f\"{metric.capitalize()} is\", len(result))\n",
      "/usr/local/lib/python3.11/dist-packages/sklearn/metrics/_classification.py:1517: UndefinedMetricWarning: Precision is ill-defined and being set to 0.0 in labels with no predicted samples. Use `zero_division` parameter to control this behavior.\n",
      "  _warn_prf(average, modifier, f\"{metric.capitalize()} is\", len(result))\n",
      "/usr/local/lib/python3.11/dist-packages/sklearn/metrics/_classification.py:1517: UndefinedMetricWarning: Precision is ill-defined and being set to 0.0 in labels with no predicted samples. Use `zero_division` parameter to control this behavior.\n",
      "  _warn_prf(average, modifier, f\"{metric.capitalize()} is\", len(result))\n"
     ]
    }
   ],
   "source": [
    "from sklearn.metrics import accuracy_score, precision_score, recall_score, f1_score\n",
    "# Run the hyperparameter search\n",
    "\n",
    "reduce_lr = ReduceLROnPlateau(monitor='val_loss', factor=0.2,patience=2, min_lr=1e-20)\n",
    "early_stop = tf.keras.callbacks.EarlyStopping(monitor='val_loss', verbose=0, patience=60)\n",
    "\n",
    "tuner.search(X_train_formated, y_train_formated, epochs=10, batch_size=2, validation_split=0.2, callbacks=[reduce_lr,early_stop],verbose=1)\n",
    "\n",
    "\n",
    "# Get the best model\n",
    "best_model = tuner.get_best_models(num_models=1)[0]\n",
    "\n",
    "# Evaluate the best model\n",
    "loss, accuracy = best_model.evaluate(X_test_formated, y_test_formated)\n",
    "print(f'Loss: {loss}, Accuracy: {accuracy}')\n",
    "\n",
    "# Predict and evaluate\n",
    "y_pred = best_model.predict(X_test_formated, verbose=1)\n",
    "y_pred_bool = np.round(y_pred)\n",
    "y_test_formated_values=y_test_formated.reshape(-1, 1)\n",
    "print(classification_report(y_test_formated_values, y_pred_bool))"
   ]
  },
  {
   "cell_type": "code",
   "execution_count": 13,
   "id": "8587f241-3218-4330-9fd7-66ea65af77bf",
   "metadata": {},
   "outputs": [
    {
     "name": "stdout",
     "output_type": "stream",
     "text": [
      "Results summary\n",
      "Results in tuner_dir-pt4/audio_classification-pt4\n",
      "Showing 10 best trials\n",
      "Objective(name=\"val_accuracy\", direction=\"max\")\n",
      "\n",
      "Trial 0021 summary\n",
      "Hyperparameters:\n",
      "learning_rate: 0.008994169021760937\n",
      "num_layers: 5\n",
      "unit_0: 40\n",
      "drop_0: 0.2\n",
      "unit_1: 70\n",
      "drop_1: 0.15000000000000002\n",
      "unit_2: 45\n",
      "drop_2: 0.0\n",
      "unit_3: 45\n",
      "drop_3: 0.1\n",
      "unit_4: 35\n",
      "drop_4: 0.1\n",
      "unit_5: 45\n",
      "drop_5: 0.1\n",
      "tuner/epochs: 4\n",
      "tuner/initial_epoch: 0\n",
      "tuner/bracket: 1\n",
      "tuner/round: 0\n",
      "Score: 0.5766016840934753\n",
      "\n",
      "Trial 0001 summary\n",
      "Hyperparameters:\n",
      "learning_rate: 0.004510296504594839\n",
      "num_layers: 1\n",
      "unit_0: 60\n",
      "drop_0: 0.15000000000000002\n",
      "unit_1: 35\n",
      "drop_1: 0.05\n",
      "unit_2: 45\n",
      "drop_2: 0.0\n",
      "unit_3: 25\n",
      "drop_3: 0.1\n",
      "tuner/epochs: 2\n",
      "tuner/initial_epoch: 0\n",
      "tuner/bracket: 2\n",
      "tuner/round: 0\n",
      "Score: 0.5766016840934753\n",
      "\n",
      "Trial 0042 summary\n",
      "Hyperparameters:\n",
      "learning_rate: 0.003280464116486103\n",
      "num_layers: 5\n",
      "unit_0: 30\n",
      "drop_0: 0.2\n",
      "unit_1: 50\n",
      "drop_1: 0.25\n",
      "unit_2: 40\n",
      "drop_2: 0.0\n",
      "unit_3: 55\n",
      "drop_3: 0.25\n",
      "unit_4: 70\n",
      "drop_4: 0.25\n",
      "unit_5: 80\n",
      "drop_5: 0.0\n",
      "tuner/epochs: 4\n",
      "tuner/initial_epoch: 2\n",
      "tuner/bracket: 2\n",
      "tuner/round: 1\n",
      "tuner/trial_id: 0030\n",
      "Score: 0.5766016840934753\n",
      "\n",
      "Trial 0051 summary\n",
      "Hyperparameters:\n",
      "learning_rate: 0.008172191834030592\n",
      "num_layers: 6\n",
      "unit_0: 40\n",
      "drop_0: 0.05\n",
      "unit_1: 70\n",
      "drop_1: 0.1\n",
      "unit_2: 20\n",
      "drop_2: 0.05\n",
      "unit_3: 70\n",
      "drop_3: 0.0\n",
      "unit_4: 25\n",
      "drop_4: 0.2\n",
      "unit_5: 75\n",
      "drop_5: 0.05\n",
      "tuner/epochs: 4\n",
      "tuner/initial_epoch: 0\n",
      "tuner/bracket: 1\n",
      "tuner/round: 0\n",
      "Score: 0.5766016840934753\n",
      "\n",
      "Trial 0080 summary\n",
      "Hyperparameters:\n",
      "learning_rate: 0.005754648937006842\n",
      "num_layers: 4\n",
      "unit_0: 55\n",
      "drop_0: 0.15000000000000002\n",
      "unit_1: 20\n",
      "drop_1: 0.0\n",
      "unit_2: 80\n",
      "drop_2: 0.0\n",
      "unit_3: 45\n",
      "drop_3: 0.15000000000000002\n",
      "unit_4: 45\n",
      "drop_4: 0.05\n",
      "unit_5: 15\n",
      "drop_5: 0.1\n",
      "tuner/epochs: 4\n",
      "tuner/initial_epoch: 0\n",
      "tuner/bracket: 1\n",
      "tuner/round: 0\n",
      "Score: 0.5766016840934753\n",
      "\n",
      "Trial 0060 summary\n",
      "Hyperparameters:\n",
      "learning_rate: 0.013131692097649405\n",
      "num_layers: 3\n",
      "unit_0: 65\n",
      "drop_0: 0.1\n",
      "unit_1: 15\n",
      "drop_1: 0.15000000000000002\n",
      "unit_2: 45\n",
      "drop_2: 0.05\n",
      "unit_3: 40\n",
      "drop_3: 0.2\n",
      "unit_4: 50\n",
      "drop_4: 0.1\n",
      "unit_5: 15\n",
      "drop_5: 0.05\n",
      "tuner/epochs: 2\n",
      "tuner/initial_epoch: 0\n",
      "tuner/bracket: 2\n",
      "tuner/round: 0\n",
      "Score: 0.5766016840934753\n",
      "\n",
      "Trial 0003 summary\n",
      "Hyperparameters:\n",
      "learning_rate: 0.09950466817819842\n",
      "num_layers: 1\n",
      "unit_0: 80\n",
      "drop_0: 0.15000000000000002\n",
      "unit_1: 25\n",
      "drop_1: 0.15000000000000002\n",
      "unit_2: 30\n",
      "drop_2: 0.1\n",
      "unit_3: 30\n",
      "drop_3: 0.25\n",
      "unit_4: 65\n",
      "drop_4: 0.25\n",
      "unit_5: 40\n",
      "drop_5: 0.1\n",
      "tuner/epochs: 2\n",
      "tuner/initial_epoch: 0\n",
      "tuner/bracket: 2\n",
      "tuner/round: 0\n",
      "Score: 0.5766016840934753\n",
      "\n",
      "Trial 0032 summary\n",
      "Hyperparameters:\n",
      "learning_rate: 0.003255639325303961\n",
      "num_layers: 6\n",
      "unit_0: 80\n",
      "drop_0: 0.25\n",
      "unit_1: 35\n",
      "drop_1: 0.15000000000000002\n",
      "unit_2: 80\n",
      "drop_2: 0.0\n",
      "unit_3: 20\n",
      "drop_3: 0.2\n",
      "unit_4: 80\n",
      "drop_4: 0.15000000000000002\n",
      "unit_5: 60\n",
      "drop_5: 0.0\n",
      "tuner/epochs: 2\n",
      "tuner/initial_epoch: 0\n",
      "tuner/bracket: 2\n",
      "tuner/round: 0\n",
      "Score: 0.5766016840934753\n",
      "\n",
      "Trial 0053 summary\n",
      "Hyperparameters:\n",
      "learning_rate: 0.018821232789177442\n",
      "num_layers: 2\n",
      "unit_0: 20\n",
      "drop_0: 0.05\n",
      "unit_1: 75\n",
      "drop_1: 0.25\n",
      "unit_2: 55\n",
      "drop_2: 0.15000000000000002\n",
      "unit_3: 35\n",
      "drop_3: 0.15000000000000002\n",
      "unit_4: 80\n",
      "drop_4: 0.2\n",
      "unit_5: 55\n",
      "drop_5: 0.05\n",
      "tuner/epochs: 4\n",
      "tuner/initial_epoch: 0\n",
      "tuner/bracket: 1\n",
      "tuner/round: 0\n",
      "Score: 0.5766016840934753\n",
      "\n",
      "Trial 0068 summary\n",
      "Hyperparameters:\n",
      "learning_rate: 0.067486905103369\n",
      "num_layers: 5\n",
      "unit_0: 20\n",
      "drop_0: 0.1\n",
      "unit_1: 75\n",
      "drop_1: 0.15000000000000002\n",
      "unit_2: 55\n",
      "drop_2: 0.0\n",
      "unit_3: 75\n",
      "drop_3: 0.2\n",
      "unit_4: 15\n",
      "drop_4: 0.05\n",
      "unit_5: 25\n",
      "drop_5: 0.2\n",
      "tuner/epochs: 2\n",
      "tuner/initial_epoch: 0\n",
      "tuner/bracket: 2\n",
      "tuner/round: 0\n",
      "Score: 0.5766016840934753\n"
     ]
    }
   ],
   "source": [
    "tuner.results_summary()"
   ]
  },
  {
   "cell_type": "raw",
   "id": "30e214db-5e1c-42f7-afda-2d8fdacca90e",
   "metadata": {},
   "source": [
    "Trial 0021 summary\n",
    "Hyperparameters:\n",
    "learning_rate: 0.008994169021760937\n",
    "num_layers: 5\n",
    "unit_0: 40\n",
    "drop_0: 0.2\n",
    "unit_1: 70\n",
    "drop_1: 0.15000000000000002\n",
    "unit_2: 45\n",
    "drop_2: 0.0\n",
    "unit_3: 45\n",
    "drop_3: 0.1\n",
    "unit_4: 35\n",
    "drop_4: 0.1\n",
    "unit_5: 45\n",
    "drop_5: 0.1\n",
    "tuner/epochs: 4"
   ]
  }
 ],
 "metadata": {
  "kernelspec": {
   "display_name": "Python 3 (ipykernel)",
   "language": "python",
   "name": "python3"
  },
  "language_info": {
   "codemirror_mode": {
    "name": "ipython",
    "version": 3
   },
   "file_extension": ".py",
   "mimetype": "text/x-python",
   "name": "python",
   "nbconvert_exporter": "python",
   "pygments_lexer": "ipython3",
   "version": "3.11.0rc1"
  }
 },
 "nbformat": 4,
 "nbformat_minor": 5
}
