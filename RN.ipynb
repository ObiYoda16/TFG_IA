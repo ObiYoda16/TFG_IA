{
 "cells": [
  {
   "cell_type": "code",
   "execution_count": 2,
   "id": "d6d240cb-8a29-4b2b-bb12-23743557d478",
   "metadata": {},
   "outputs": [
    {
     "name": "stderr",
     "output_type": "stream",
     "text": [
      "2024-07-04 15:29:52.592134: E external/local_xla/xla/stream_executor/cuda/cuda_fft.cc:479] Unable to register cuFFT factory: Attempting to register factory for plugin cuFFT when one has already been registered\n",
      "2024-07-04 15:29:52.612513: E external/local_xla/xla/stream_executor/cuda/cuda_dnn.cc:10575] Unable to register cuDNN factory: Attempting to register factory for plugin cuDNN when one has already been registered\n",
      "2024-07-04 15:29:52.612558: E external/local_xla/xla/stream_executor/cuda/cuda_blas.cc:1442] Unable to register cuBLAS factory: Attempting to register factory for plugin cuBLAS when one has already been registered\n",
      "2024-07-04 15:29:52.627962: I tensorflow/core/platform/cpu_feature_guard.cc:210] This TensorFlow binary is optimized to use available CPU instructions in performance-critical operations.\n",
      "To enable the following instructions: AVX2 FMA, in other operations, rebuild TensorFlow with the appropriate compiler flags.\n"
     ]
    }
   ],
   "source": [
    "import keras\n",
    "import numpy as np\n",
    "import tensorflow as tf\n",
    "from keras import layers\n",
    "from sklearn.metrics import classification_report\n",
    "from keras import layers, models, regularizers\n",
    "from keras.layers import Embedding, LSTM, Dense, Dropout, Bidirectional\n",
    "from keras.regularizers import l2\n",
    "from keras.callbacks import ReduceLROnPlateau\n",
    "import keras_tuner as kt\n",
    "from tensorflow.keras.metrics import Precision, Recall\n",
    "import tensorflow.keras.backend as K\n",
    "from sklearn.metrics import accuracy_score\n",
    "from sklearn.preprocessing import LabelEncoder\n",
    "from xgboost import XGBClassifier\n",
    "import torch\n",
    "import torchaudio\n",
    "from tqdm import tqdm\n",
    "from sklearn.model_selection import GridSearchCV, train_test_split"
   ]
  },
  {
   "cell_type": "code",
   "execution_count": 54,
   "id": "b1dd0b8c-27df-4f4d-9e23-46702a4bc214",
   "metadata": {},
   "outputs": [],
   "source": [
    "X = np.load('audio_features.npy')\n",
    "y = np.load('audio_labels.npy')\n",
    "\n",
    "# Dividir los datos en conjuntos de entrenamiento y prueba\n",
    "X_train, X_test, y_train, y_test = train_test_split(X, y, test_size=0.2, random_state=42)\n",
    "\n",
    "X_train_formated = X_train\n",
    "y_train_formated = y_train\n",
    "X_test_formated = X_test\n",
    "y_test_formated = y_test"
   ]
  },
  {
   "cell_type": "code",
   "execution_count": 3,
   "id": "416daedb-9c8e-4096-9ce1-c3baa01d1421",
   "metadata": {},
   "outputs": [
    {
     "name": "stderr",
     "output_type": "stream",
     "text": [
      "2024-07-04 15:29:55.579984: I external/local_xla/xla/stream_executor/cuda/cuda_executor.cc:984] could not open file to read NUMA node: /sys/bus/pci/devices/0000:07:00.0/numa_node\n",
      "Your kernel may have been built without NUMA support.\n",
      "2024-07-04 15:29:55.580965: I external/local_xla/xla/stream_executor/cuda/cuda_executor.cc:984] could not open file to read NUMA node: /sys/bus/pci/devices/0000:07:00.0/numa_node\n",
      "Your kernel may have been built without NUMA support.\n",
      "2024-07-04 15:29:55.581012: I external/local_xla/xla/stream_executor/cuda/cuda_executor.cc:984] could not open file to read NUMA node: /sys/bus/pci/devices/0000:07:00.0/numa_node\n",
      "Your kernel may have been built without NUMA support.\n"
     ]
    }
   ],
   "source": [
    "import pandas as pd\n",
    "import torch\n",
    "from sklearn.model_selection import train_test_split\n",
    "import numpy as np\n",
    "physical_devices = tf.config.list_physical_devices('GPU')\n",
    "\n",
    "\n",
    "class AudioProcessor:\n",
    "    def __init__(self, path_df, path_audio):\n",
    "        self.path_df = \"df_filter.csv\"\n",
    "        self.path_audio = path_audio\n",
    "        self.load_data()\n",
    "\n",
    "    def load_data(self):\n",
    "        df = pd.read_csv(self.path_df)\n",
    "        df[\"file_cut_path\"] = self.path_audio + df[\"file_name\"]\n",
    "        df = df.reset_index(drop=True)\n",
    "        self.dataset = df[\"file_cut_path\"]\n",
    "\n",
    "        self.log = []\n",
    "        for i in range(len(df)):\n",
    "            self.log.append(torch.load(\"torch_files14/\" + f\"torch_files14file{i}.pt\"))\n",
    "\n",
    "        self.y = df[\"label\"]\n",
    "        self.X_train, self.X_test, self.y_train, self.y_test = train_test_split(\n",
    "            self.log, self.y, random_state=42, stratify=self.y\n",
    "        )\n",
    "\n",
    "        self.process_tensors()\n",
    "\n",
    "    def process_tensors(self):\n",
    "        for i in range(len(self.X_train)):\n",
    "            self.X_train[i] = self.X_train[i][0].detach().numpy()\n",
    "            self.X_train[i] = np.concatenate(self.X_train[i])\n",
    "\n",
    "        for i in range(len(self.X_test)):\n",
    "            self.X_test[i] = self.X_test[i][0].detach().numpy()\n",
    "            self.X_test[i] = np.concatenate(self.X_test[i])"
   ]
  },
  {
   "cell_type": "code",
   "execution_count": 4,
   "id": "eb00adc7-4541-47d0-ae51-9bd82b4052b3",
   "metadata": {},
   "outputs": [
    {
     "name": "stdout",
     "output_type": "stream",
     "text": [
      "X_train_formated\n",
      "y_train_formated\n",
      "X_test_formated\n",
      "y_test_formated\n",
      "Datos cargados\n"
     ]
    }
   ],
   "source": [
    "processor = AudioProcessor(path_df=\"./df_filter.csv\", path_audio=\"../audios/\")\n",
    "X_train   = processor.X_train\n",
    "y_train  = processor.y_train\n",
    "X_test = processor.X_test\n",
    "y_test = processor.y_test\n",
    "\n",
    "X_train_formated = np.array(X_train)\n",
    "y_train_formated = np.array(y_train)\n",
    "X_test_formated = np.array(X_test)\n",
    "y_test_formated = np.array(y_test)\n",
    "\n",
    "print(\"X_train_formated\")\n",
    "X_train_formated.shape\n",
    "print(\"y_train_formated\")\n",
    "y_train_formated.shape\n",
    "print(\"X_test_formated\")\n",
    "X_test_formated.shape\n",
    "print(\"y_test_formated\")\n",
    "y_test_formated.shape\n",
    "\n",
    "\n",
    "print(\"Datos cargados\")"
   ]
  },
  {
   "cell_type": "code",
   "execution_count": 57,
   "id": "1a3ff21e-34a6-484c-85e2-429d0f55faef",
   "metadata": {},
   "outputs": [
    {
     "name": "stdout",
     "output_type": "stream",
     "text": [
      "Xtrain\n"
     ]
    },
    {
     "data": {
      "text/plain": [
       "(1794, 152576)"
      ]
     },
     "execution_count": 57,
     "metadata": {},
     "output_type": "execute_result"
    }
   ],
   "source": [
    "print(\"Xtrain\") \n",
    "X_train_formated.shape\n"
   ]
  },
  {
   "cell_type": "code",
   "execution_count": 58,
   "id": "aaba3c01-0730-4736-b1df-c92c0c156534",
   "metadata": {},
   "outputs": [
    {
     "name": "stdout",
     "output_type": "stream",
     "text": [
      "Ytrain\n"
     ]
    },
    {
     "data": {
      "text/plain": [
       "(1794,)"
      ]
     },
     "execution_count": 58,
     "metadata": {},
     "output_type": "execute_result"
    }
   ],
   "source": [
    "print(\"Ytrain\") \n",
    "y_train_formated.shape"
   ]
  },
  {
   "cell_type": "code",
   "execution_count": 28,
   "id": "df4a5918-8c45-46e6-9c20-a3c5845a8c97",
   "metadata": {},
   "outputs": [],
   "source": [
    "X_train = np.array(X_train)\n",
    "X_train_formated = X_train.reshape((1794, 128, 1192)) \n",
    "\n",
    "timesteps = 128  # chosen timesteps\n",
    "features = 1192  # calculated features per timestep\n",
    "input_shape = (timesteps, features)\n",
    "num_classes = 1  # assuming binary classification"
   ]
  },
  {
   "cell_type": "code",
   "execution_count": 31,
   "id": "71c14671-c8dc-4395-9e82-12b06ca89009",
   "metadata": {
    "scrolled": true
   },
   "outputs": [],
   "source": [
    "model = models.Sequential([\n",
    "    layers.Input(shape=(timesteps, features)), \n",
    "    layers.LSTM(64, return_sequences=True, input_shape=(128,input_shape)),\n",
    "    layers.LSTM(32, return_sequences=False),\n",
    "    layers.Dense(60, activation=\"relu\", kernel_regularizer=regularizers.l2(0.02)),\n",
    "    layers.Dropout(0.2),\n",
    "    layers.Dense(30, activation=\"relu\", kernel_regularizer=regularizers.l2(0.02)),\n",
    "    layers.Dense(num_classes, activation=\"sigmoid\")  # Capa de salida con activación sigmoid para binaria\n",
    "])\n"
   ]
  },
  {
   "cell_type": "code",
   "execution_count": 33,
   "id": "5c0238fd-9a87-4fbc-91ca-a19af895ab2e",
   "metadata": {
    "scrolled": true
   },
   "outputs": [
    {
     "name": "stderr",
     "output_type": "stream",
     "text": [
      "/usr/local/lib/python3.11/dist-packages/keras/src/layers/convolutional/base_conv.py:107: UserWarning: Do not pass an `input_shape`/`input_dim` argument to a layer. When using Sequential models, prefer using an `Input(shape)` object as the first layer in the model instead.\n",
      "  super().__init__(activity_regularizer=activity_regularizer, **kwargs)\n"
     ]
    }
   ],
   "source": [
    "model = models.Sequential([\n",
    "    layers.InputLayer(input_shape=input_shape),\n",
    "    layers.Dense(60, activation=\"relu\", kernel_regularizer=regularizers.l2(0.02)),\n",
    "    layers.Dense(30, activation=\"relu\", kernel_regularizer=regularizers.l2(0.02)),\n",
    "    layers.Dense(num_classes, activation=\"sigmoid\")  # Capa de salida con activación sigmoid\n",
    "])"
   ]
  },
  {
   "cell_type": "code",
   "execution_count": null,
   "id": "e6099ae3-c4e0-483b-9d52-8b5530a3745c",
   "metadata": {},
   "outputs": [],
   "source": [
    "model = models.Sequential([\n",
    "    layers.Bidirectional(layers.LSTM(128, return_sequences=True), input_shape=(timesteps, features)),\n",
    "    layers.Bidirectional(layers.LSTM(64, return_sequences=False)),\n",
    "    \n",
    "    layers.Dense(128, activation=\"relu\", kernel_regularizer=regularizers.l2(0.01)),\n",
    "    layers.BatchNormalization(),\n",
    "    layers.Dropout(0.5),\n",
    "    \n",
    "    layers.Dense(64, activation=\"relu\", kernel_regularizer=regularizers.l2(0.01)),\n",
    "    layers.BatchNormalization(),\n",
    "    layers.Dropout(0.5),\n",
    "    \n",
    "    layers.Dense(32, activation=\"relu\", kernel_regularizer=regularizers.l2(0.01)),\n",
    "    layers.BatchNormalization(),\n",
    "    layers.Dropout(0.5),\n",
    "    \n",
    "    layers.Dense(num_classes, activation=\"sigmoid\")\n",
    "])"
   ]
  },
  {
   "cell_type": "code",
   "execution_count": null,
   "id": "999f9b99-0036-4cea-8a0f-cec34338754c",
   "metadata": {},
   "outputs": [],
   "source": [
    "model = models.Sequential([\n",
    "    # Añadir capas convolucionales para extraer características\n",
    "    layers.Conv1D(filters=64, kernel_size=3, activation='relu', input_shape=(timesteps, features)),\n",
    "    layers.Conv1D(filters=64, kernel_size=3, activation='relu'),\n",
    "    layers.MaxPooling1D(pool_size=2),\n",
    "    layers.Dropout(0.2),\n",
    "    \n",
    "    # Capas LSTM para capturar dependencias temporales\n",
    "    layers.LSTM(128, return_sequences=True),\n",
    "    layers.LSTM(64, return_sequences=False),\n",
    "    \n",
    "    # Capas densas para la clasificación final\n",
    "    layers.Dense(60, activation=\"relu\", kernel_regularizer=regularizers.l2(0.02)),\n",
    "    layers.Dropout(0.2),\n",
    "    layers.Dense(30, activation=\"relu\", kernel_regularizer=regularizers.l2(0.02)),\n",
    "    layers.Dense(num_classes, activation=\"sigmoid\")  # Capa de salida con activación sigmoid para clasificación binaria\n",
    "])"
   ]
  },
  {
   "cell_type": "code",
   "execution_count": 40,
   "id": "64a545fe-6edc-4b7e-add2-9e1294533173",
   "metadata": {},
   "outputs": [
    {
     "name": "stderr",
     "output_type": "stream",
     "text": [
      "/usr/local/lib/python3.11/dist-packages/keras/src/layers/rnn/bidirectional.py:107: UserWarning: Do not pass an `input_shape`/`input_dim` argument to a layer. When using Sequential models, prefer using an `Input(shape)` object as the first layer in the model instead.\n",
      "  super().__init__(**kwargs)\n"
     ]
    }
   ],
   "source": [
    "model = models.Sequential([\n",
    "    # Añadir capas Bidirectional LSTM\n",
    "    layers.Bidirectional(layers.LSTM(128, return_sequences=True), input_shape=(timesteps, features)),\n",
    "    layers.Bidirectional(layers.LSTM(64, return_sequences=False)),\n",
    "    \n",
    "    # Capas densas para la clasificación final\n",
    "    layers.Dense(128, activation=\"relu\", kernel_regularizer=regularizers.l2(0.01)),\n",
    "    layers.BatchNormalization(),\n",
    "    layers.Dropout(0.2),\n",
    "    \n",
    "    layers.Dense(64, activation=\"relu\", kernel_regularizer=regularizers.l2(0.01)),\n",
    "    layers.BatchNormalization(),\n",
    "    layers.Dropout(0.2),\n",
    "    \n",
    "    layers.Dense(32, activation=\"relu\", kernel_regularizer=regularizers.l2(0.01)),\n",
    "    layers.Dropout(0.2),\n",
    "    \n",
    "    layers.Dense(num_classes, activation=\"sigmoid\")  # Capa de salida con activación sigmoid para clasificación binaria\n",
    "])"
   ]
  },
  {
   "cell_type": "code",
   "execution_count": 46,
   "id": "563ccdbb-c6e9-4ce4-8316-657aa1aa2ed8",
   "metadata": {},
   "outputs": [],
   "source": [
    "model = models.Sequential([\n",
    "    # Añadir capas Bidirectional LSTM\n",
    "    layers.Bidirectional(layers.LSTM(128, return_sequences=True), input_shape=(timesteps, features)),\n",
    "    layers.Bidirectional(layers.LSTM(64, return_sequences=False)),\n",
    "    \n",
    "    # Capas densas para la clasificación final\n",
    "    layers.Dense(128, activation=\"relu\", kernel_regularizer=regularizers.l2(0.01)),\n",
    "    \n",
    "    layers.Dense(64, activation=\"relu\", kernel_regularizer=regularizers.l2(0.01)),\n",
    "    layers.BatchNormalization(),\n",
    "    \n",
    "    layers.Dense(32, activation=\"relu\", kernel_regularizer=regularizers.l2(0.01)),\n",
    "    layers.Dropout(0.2),\n",
    "    \n",
    "    layers.Dense(num_classes, activation=\"sigmoid\")  # Capa de salida con activación sigmoid para clasificación binaria\n",
    "])"
   ]
  },
  {
   "cell_type": "code",
   "execution_count": null,
   "id": "6b515f81-f10e-4f3c-afa5-d787986d1b38",
   "metadata": {},
   "outputs": [],
   "source": [
    "model = models.Sequential([\n",
    "    layers.Flatten(input_shape=(152576,)),\n",
    "    layers.Flatten(input_shape=input_shape),  # Aplanar la entrada para usar capas densas\n",
    "    layers.Dense(64, activation=\"relu\",),  # Primera capa densa con 128 neuronas\n",
    "    layers.Dropout(0.25),\n",
    "    layers.Dense(32, activation=\"relu\"),  # Segunda capa densa con 64 neuronas\n",
    "    layers.Dropout(0.5),\n",
    "    layers.Dense(16, activation=\"relu\"),  # Segunda capa densa con 64 neuronasºexit\n",
    "  # Capa de salida con activación sigmoid para clasificación binaria\n",
    "])"
   ]
  },
  {
   "cell_type": "code",
   "execution_count": null,
   "id": "7f00d92b-4952-46a7-9894-940c4380592d",
   "metadata": {},
   "outputs": [],
   "source": [
    "loss = tf.keras.losses.BinaryCrossentropy(from_logits=False)\n",
    "optimizer = keras.optimizers.Adam(learning_rate= 0.001)\n",
    "reduce_lr = ReduceLROnPlateau(monitor='val_loss', factor=0.2,\n",
    "                              patience=2, min_lr=1e-6,)\n",
    "early_stop = tf.keras.callbacks.EarlyStopping(monitor='val_loss', verbose=0, patience=60)\n",
    "model.compile(loss=loss, optimizer=optimizer ,metrics=['accuracy'])\n",
    "model.summary()\n",
    "# Train the model\n",
    "history = model.fit(X_train_formated, y_train_formated, epochs=50, batch_size=2, validation_split=0.2, verbose=1, callbacks=[reduce_lr,early_stop])\n"
   ]
  },
  {
   "cell_type": "code",
   "execution_count": null,
   "id": "d71592b2-6690-4448-87f6-ff9603ed6e04",
   "metadata": {},
   "outputs": [],
   "source": [
    "X_test_formated = X_test_formated.reshape((-1, 128, 1192))\n",
    "y_pred = model.predict(X_test_formated, verbose=1)\n",
    "y_pred_bool = np.round(y_pred)\n",
    "\n",
    "loss, accuracy = model.evaluate(X_test_formated, y_test_formated)\n",
    "y_test_formated_values=y_test_formated\n",
    "y_pred_bool = np.where(y_pred_bool > 0.5, 1, 0).reshape(-1)\n",
    "print(f'Loss: {loss}, Accuracy: {accuracy}')\n",
    "print(classification_report(y_test_formated_values, y_pred_bool))"
   ]
  },
  {
   "cell_type": "code",
   "execution_count": 8,
   "id": "1df3f312-2120-4d1e-a71b-1ad2b20e2a10",
   "metadata": {},
   "outputs": [],
   "source": [
    "\n",
    "\n",
    "# Define the HyperModel\n",
    "def build_model(hp):\n",
    "    lr = hp.Float('learning_rate', min_value=1e-4, max_value=1e-1, sampling='log')\n",
    "    model = keras.Sequential()\n",
    "    for i in range(0, hp.Int(\"num_layers\", 1, 6)):\n",
    "        model.add(\n",
    "            tf.keras.layers.Dense(units = hp.Int(f\"unit_{i}\", 15, 80, step = 5), \n",
    "                                     activation='relu'\n",
    "                                     )\n",
    "            \n",
    "        )\n",
    "        model.add(\n",
    "            tf.keras.layers.Dropout(hp.Float(f\"drop_{i}\", min_value=0.00, max_value=0.3, step=0.05)\n",
    "                                     )\n",
    "            \n",
    "        )\n",
    "\n",
    "\n",
    "# Tune the learning rate for the optimizer\n",
    "    model.add(layers.Dense(1, activation=\"softmax\"))\n",
    "    model.compile(optimizer=keras.optimizers.Adam(learning_rate=hp.Float('learning_rate', min_value=1e-5, max_value=1e-2, sampling='LOG')),\n",
    "                      loss=tf.keras.losses.BinaryCrossentropy(from_logits=False),\n",
    "                      metrics=['accuracy'])\n",
    "    return model\n",
    "\n",
    "\n"
   ]
  },
  {
   "cell_type": "code",
   "execution_count": 9,
   "id": "c30233aa-8a45-47c7-b2f6-3d81c9ad56f0",
   "metadata": {},
   "outputs": [
    {
     "name": "stdout",
     "output_type": "stream",
     "text": [
      "Reloading Tuner from tuner_dir-pt4/audio_classification-pt4/tuner0.json\n",
      "Search space summary\n",
      "Default search space size: 14\n",
      "learning_rate (Float)\n",
      "{'default': 0.0001, 'conditions': [], 'min_value': 0.0001, 'max_value': 0.1, 'step': None, 'sampling': 'log'}\n",
      "num_layers (Int)\n",
      "{'default': None, 'conditions': [], 'min_value': 1, 'max_value': 6, 'step': 1, 'sampling': 'linear'}\n",
      "unit_0 (Int)\n",
      "{'default': None, 'conditions': [], 'min_value': 15, 'max_value': 80, 'step': 5, 'sampling': 'linear'}\n",
      "drop_0 (Float)\n",
      "{'default': 0.0, 'conditions': [], 'min_value': 0.0, 'max_value': 0.3, 'step': 0.05, 'sampling': 'linear'}\n",
      "unit_1 (Int)\n",
      "{'default': None, 'conditions': [], 'min_value': 15, 'max_value': 80, 'step': 5, 'sampling': 'linear'}\n",
      "drop_1 (Float)\n",
      "{'default': 0.0, 'conditions': [], 'min_value': 0.0, 'max_value': 0.3, 'step': 0.05, 'sampling': 'linear'}\n",
      "unit_2 (Int)\n",
      "{'default': None, 'conditions': [], 'min_value': 15, 'max_value': 80, 'step': 5, 'sampling': 'linear'}\n",
      "drop_2 (Float)\n",
      "{'default': 0.0, 'conditions': [], 'min_value': 0.0, 'max_value': 0.3, 'step': 0.05, 'sampling': 'linear'}\n",
      "unit_3 (Int)\n",
      "{'default': None, 'conditions': [], 'min_value': 15, 'max_value': 80, 'step': 5, 'sampling': 'linear'}\n",
      "drop_3 (Float)\n",
      "{'default': 0.0, 'conditions': [], 'min_value': 0.0, 'max_value': 0.3, 'step': 0.05, 'sampling': 'linear'}\n",
      "unit_4 (Int)\n",
      "{'default': None, 'conditions': [], 'min_value': 15, 'max_value': 80, 'step': 5, 'sampling': 'linear'}\n",
      "drop_4 (Float)\n",
      "{'default': 0.0, 'conditions': [], 'min_value': 0.0, 'max_value': 0.3, 'step': 0.05, 'sampling': 'linear'}\n",
      "unit_5 (Int)\n",
      "{'default': None, 'conditions': [], 'min_value': 15, 'max_value': 80, 'step': 5, 'sampling': 'linear'}\n",
      "drop_5 (Float)\n",
      "{'default': 0.0, 'conditions': [], 'min_value': 0.0, 'max_value': 0.3, 'step': 0.05, 'sampling': 'linear'}\n"
     ]
    },
    {
     "name": "stderr",
     "output_type": "stream",
     "text": [
      "2024-07-01 16:34:39.500216: I external/local_xla/xla/stream_executor/cuda/cuda_executor.cc:984] could not open file to read NUMA node: /sys/bus/pci/devices/0000:07:00.0/numa_node\n",
      "Your kernel may have been built without NUMA support.\n",
      "2024-07-01 16:34:39.500324: I external/local_xla/xla/stream_executor/cuda/cuda_executor.cc:984] could not open file to read NUMA node: /sys/bus/pci/devices/0000:07:00.0/numa_node\n",
      "Your kernel may have been built without NUMA support.\n",
      "2024-07-01 16:34:39.500358: I external/local_xla/xla/stream_executor/cuda/cuda_executor.cc:984] could not open file to read NUMA node: /sys/bus/pci/devices/0000:07:00.0/numa_node\n",
      "Your kernel may have been built without NUMA support.\n",
      "2024-07-01 16:34:39.653897: I external/local_xla/xla/stream_executor/cuda/cuda_executor.cc:984] could not open file to read NUMA node: /sys/bus/pci/devices/0000:07:00.0/numa_node\n",
      "Your kernel may have been built without NUMA support.\n",
      "2024-07-01 16:34:39.653963: I external/local_xla/xla/stream_executor/cuda/cuda_executor.cc:984] could not open file to read NUMA node: /sys/bus/pci/devices/0000:07:00.0/numa_node\n",
      "Your kernel may have been built without NUMA support.\n",
      "2024-07-01 16:34:39.653974: I tensorflow/core/common_runtime/gpu/gpu_device.cc:2019] Could not identify NUMA node of platform GPU id 0, defaulting to 0.  Your kernel may not have been built with NUMA support.\n",
      "2024-07-01 16:34:39.654012: I external/local_xla/xla/stream_executor/cuda/cuda_executor.cc:984] could not open file to read NUMA node: /sys/bus/pci/devices/0000:07:00.0/numa_node\n",
      "Your kernel may have been built without NUMA support.\n",
      "2024-07-01 16:34:39.654752: I tensorflow/core/common_runtime/gpu/gpu_device.cc:1928] Created device /job:localhost/replica:0/task:0/device:GPU:0 with 6717 MB memory:  -> device: 0, name: NVIDIA GeForce GTX 1070, pci bus id: 0000:07:00.0, compute capability: 6.1\n"
     ]
    }
   ],
   "source": [
    "# Initialize the RandomSearch tuner\n",
    "tuner = kt.Hyperband(\n",
    "    hypermodel=build_model,\n",
    "    objective=\"val_accuracy\",\n",
    "    max_epochs = 10,\n",
    "    hyperband_iterations = 3,\n",
    "    directory='tuner_dir-pt4',\n",
    "    project_name='audio_classification-pt4'\n",
    ")\n",
    "# Display a summary of the search space\n",
    "tuner.search_space_summary()\n"
   ]
  },
  {
   "cell_type": "code",
   "execution_count": 10,
   "id": "051fc2dd-2d17-4667-9757-05bf727cc3a7",
   "metadata": {},
   "outputs": [
    {
     "name": "stdout",
     "output_type": "stream",
     "text": [
      "Trial 90 Complete [00h 00m 40s]\n",
      "val_accuracy: 0.5766016840934753\n",
      "\n",
      "Best val_accuracy So Far: 0.5766016840934753\n",
      "Total elapsed time: 09h 01m 09s\n",
      "\u001b[1m19/19\u001b[0m \u001b[32m━━━━━━━━━━━━━━━━━━━━\u001b[0m\u001b[37m\u001b[0m \u001b[1m1s\u001b[0m 32ms/step - accuracy: 0.6051 - loss: 0.6702\n",
      "Loss: 0.6778860688209534, Accuracy: 0.5852842926979065\n",
      "\u001b[1m 6/19\u001b[0m \u001b[32m━━━━━━\u001b[0m\u001b[37m━━━━━━━━━━━━━━\u001b[0m \u001b[1m0s\u001b[0m 10ms/step "
     ]
    },
    {
     "name": "stderr",
     "output_type": "stream",
     "text": [
      "/usr/local/lib/python3.11/dist-packages/keras/src/ops/nn.py:545: UserWarning: You are using a softmax over axis -1 of a tensor of shape (32, 1). This axis has size 1. The softmax operation will always return the value 1, which is likely not what you intended. Did you mean to use a sigmoid instead?\n",
      "  warnings.warn(\n"
     ]
    },
    {
     "name": "stdout",
     "output_type": "stream",
     "text": [
      "\u001b[1m19/19\u001b[0m \u001b[32m━━━━━━━━━━━━━━━━━━━━\u001b[0m\u001b[37m\u001b[0m \u001b[1m0s\u001b[0m 16ms/step\n",
      "              precision    recall  f1-score   support\n",
      "\n",
      "         0.0       0.00      0.00      0.00       248\n",
      "         1.0       0.59      1.00      0.74       350\n",
      "\n",
      "    accuracy                           0.59       598\n",
      "   macro avg       0.29      0.50      0.37       598\n",
      "weighted avg       0.34      0.59      0.43       598\n",
      "\n"
     ]
    },
    {
     "name": "stderr",
     "output_type": "stream",
     "text": [
      "/usr/local/lib/python3.11/dist-packages/sklearn/metrics/_classification.py:1517: UndefinedMetricWarning: Precision is ill-defined and being set to 0.0 in labels with no predicted samples. Use `zero_division` parameter to control this behavior.\n",
      "  _warn_prf(average, modifier, f\"{metric.capitalize()} is\", len(result))\n",
      "/usr/local/lib/python3.11/dist-packages/sklearn/metrics/_classification.py:1517: UndefinedMetricWarning: Precision is ill-defined and being set to 0.0 in labels with no predicted samples. Use `zero_division` parameter to control this behavior.\n",
      "  _warn_prf(average, modifier, f\"{metric.capitalize()} is\", len(result))\n",
      "/usr/local/lib/python3.11/dist-packages/sklearn/metrics/_classification.py:1517: UndefinedMetricWarning: Precision is ill-defined and being set to 0.0 in labels with no predicted samples. Use `zero_division` parameter to control this behavior.\n",
      "  _warn_prf(average, modifier, f\"{metric.capitalize()} is\", len(result))\n"
     ]
    }
   ],
   "source": [
    "from sklearn.metrics import accuracy_score, precision_score, recall_score, f1_score\n",
    "# Run the hyperparameter search\n",
    "\n",
    "reduce_lr = ReduceLROnPlateau(monitor='val_loss', factor=0.2,patience=2, min_lr=1e-20)\n",
    "early_stop = tf.keras.callbacks.EarlyStopping(monitor='val_loss', verbose=0, patience=60)\n",
    "\n",
    "tuner.search(X_train_formated, y_train_formated, epochs=10, batch_size=2, validation_split=0.2, callbacks=[reduce_lr,early_stop],verbose=1)\n",
    "\n",
    "\n",
    "# Get the best model\n",
    "best_model = tuner.get_best_models(num_models=1)[0]\n",
    "\n",
    "# Evaluate the best model\n",
    "loss, accuracy = best_model.evaluate(X_test_formated, y_test_formated)\n",
    "print(f'Loss: {loss}, Accuracy: {accuracy}')\n",
    "\n",
    "# Predict and evaluate\n",
    "y_pred = best_model.predict(X_test_formated, verbose=1)\n",
    "y_pred_bool = np.round(y_pred)\n",
    "y_test_formated_values=y_test_formated.reshape(-1, 1)\n",
    "print(classification_report(y_test_formated_values, y_pred_bool))"
   ]
  },
  {
   "cell_type": "code",
   "execution_count": 13,
   "id": "8587f241-3218-4330-9fd7-66ea65af77bf",
   "metadata": {},
   "outputs": [
    {
     "name": "stdout",
     "output_type": "stream",
     "text": [
      "Results summary\n",
      "Results in tuner_dir-pt4/audio_classification-pt4\n",
      "Showing 10 best trials\n",
      "Objective(name=\"val_accuracy\", direction=\"max\")\n",
      "\n",
      "Trial 0021 summary\n",
      "Hyperparameters:\n",
      "learning_rate: 0.008994169021760937\n",
      "num_layers: 5\n",
      "unit_0: 40\n",
      "drop_0: 0.2\n",
      "unit_1: 70\n",
      "drop_1: 0.15000000000000002\n",
      "unit_2: 45\n",
      "drop_2: 0.0\n",
      "unit_3: 45\n",
      "drop_3: 0.1\n",
      "unit_4: 35\n",
      "drop_4: 0.1\n",
      "unit_5: 45\n",
      "drop_5: 0.1\n",
      "tuner/epochs: 4\n",
      "tuner/initial_epoch: 0\n",
      "tuner/bracket: 1\n",
      "tuner/round: 0\n",
      "Score: 0.5766016840934753\n",
      "\n",
      "Trial 0001 summary\n",
      "Hyperparameters:\n",
      "learning_rate: 0.004510296504594839\n",
      "num_layers: 1\n",
      "unit_0: 60\n",
      "drop_0: 0.15000000000000002\n",
      "unit_1: 35\n",
      "drop_1: 0.05\n",
      "unit_2: 45\n",
      "drop_2: 0.0\n",
      "unit_3: 25\n",
      "drop_3: 0.1\n",
      "tuner/epochs: 2\n",
      "tuner/initial_epoch: 0\n",
      "tuner/bracket: 2\n",
      "tuner/round: 0\n",
      "Score: 0.5766016840934753\n",
      "\n",
      "Trial 0042 summary\n",
      "Hyperparameters:\n",
      "learning_rate: 0.003280464116486103\n",
      "num_layers: 5\n",
      "unit_0: 30\n",
      "drop_0: 0.2\n",
      "unit_1: 50\n",
      "drop_1: 0.25\n",
      "unit_2: 40\n",
      "drop_2: 0.0\n",
      "unit_3: 55\n",
      "drop_3: 0.25\n",
      "unit_4: 70\n",
      "drop_4: 0.25\n",
      "unit_5: 80\n",
      "drop_5: 0.0\n",
      "tuner/epochs: 4\n",
      "tuner/initial_epoch: 2\n",
      "tuner/bracket: 2\n",
      "tuner/round: 1\n",
      "tuner/trial_id: 0030\n",
      "Score: 0.5766016840934753\n",
      "\n",
      "Trial 0051 summary\n",
      "Hyperparameters:\n",
      "learning_rate: 0.008172191834030592\n",
      "num_layers: 6\n",
      "unit_0: 40\n",
      "drop_0: 0.05\n",
      "unit_1: 70\n",
      "drop_1: 0.1\n",
      "unit_2: 20\n",
      "drop_2: 0.05\n",
      "unit_3: 70\n",
      "drop_3: 0.0\n",
      "unit_4: 25\n",
      "drop_4: 0.2\n",
      "unit_5: 75\n",
      "drop_5: 0.05\n",
      "tuner/epochs: 4\n",
      "tuner/initial_epoch: 0\n",
      "tuner/bracket: 1\n",
      "tuner/round: 0\n",
      "Score: 0.5766016840934753\n",
      "\n",
      "Trial 0080 summary\n",
      "Hyperparameters:\n",
      "learning_rate: 0.005754648937006842\n",
      "num_layers: 4\n",
      "unit_0: 55\n",
      "drop_0: 0.15000000000000002\n",
      "unit_1: 20\n",
      "drop_1: 0.0\n",
      "unit_2: 80\n",
      "drop_2: 0.0\n",
      "unit_3: 45\n",
      "drop_3: 0.15000000000000002\n",
      "unit_4: 45\n",
      "drop_4: 0.05\n",
      "unit_5: 15\n",
      "drop_5: 0.1\n",
      "tuner/epochs: 4\n",
      "tuner/initial_epoch: 0\n",
      "tuner/bracket: 1\n",
      "tuner/round: 0\n",
      "Score: 0.5766016840934753\n",
      "\n",
      "Trial 0060 summary\n",
      "Hyperparameters:\n",
      "learning_rate: 0.013131692097649405\n",
      "num_layers: 3\n",
      "unit_0: 65\n",
      "drop_0: 0.1\n",
      "unit_1: 15\n",
      "drop_1: 0.15000000000000002\n",
      "unit_2: 45\n",
      "drop_2: 0.05\n",
      "unit_3: 40\n",
      "drop_3: 0.2\n",
      "unit_4: 50\n",
      "drop_4: 0.1\n",
      "unit_5: 15\n",
      "drop_5: 0.05\n",
      "tuner/epochs: 2\n",
      "tuner/initial_epoch: 0\n",
      "tuner/bracket: 2\n",
      "tuner/round: 0\n",
      "Score: 0.5766016840934753\n",
      "\n",
      "Trial 0003 summary\n",
      "Hyperparameters:\n",
      "learning_rate: 0.09950466817819842\n",
      "num_layers: 1\n",
      "unit_0: 80\n",
      "drop_0: 0.15000000000000002\n",
      "unit_1: 25\n",
      "drop_1: 0.15000000000000002\n",
      "unit_2: 30\n",
      "drop_2: 0.1\n",
      "unit_3: 30\n",
      "drop_3: 0.25\n",
      "unit_4: 65\n",
      "drop_4: 0.25\n",
      "unit_5: 40\n",
      "drop_5: 0.1\n",
      "tuner/epochs: 2\n",
      "tuner/initial_epoch: 0\n",
      "tuner/bracket: 2\n",
      "tuner/round: 0\n",
      "Score: 0.5766016840934753\n",
      "\n",
      "Trial 0032 summary\n",
      "Hyperparameters:\n",
      "learning_rate: 0.003255639325303961\n",
      "num_layers: 6\n",
      "unit_0: 80\n",
      "drop_0: 0.25\n",
      "unit_1: 35\n",
      "drop_1: 0.15000000000000002\n",
      "unit_2: 80\n",
      "drop_2: 0.0\n",
      "unit_3: 20\n",
      "drop_3: 0.2\n",
      "unit_4: 80\n",
      "drop_4: 0.15000000000000002\n",
      "unit_5: 60\n",
      "drop_5: 0.0\n",
      "tuner/epochs: 2\n",
      "tuner/initial_epoch: 0\n",
      "tuner/bracket: 2\n",
      "tuner/round: 0\n",
      "Score: 0.5766016840934753\n",
      "\n",
      "Trial 0053 summary\n",
      "Hyperparameters:\n",
      "learning_rate: 0.018821232789177442\n",
      "num_layers: 2\n",
      "unit_0: 20\n",
      "drop_0: 0.05\n",
      "unit_1: 75\n",
      "drop_1: 0.25\n",
      "unit_2: 55\n",
      "drop_2: 0.15000000000000002\n",
      "unit_3: 35\n",
      "drop_3: 0.15000000000000002\n",
      "unit_4: 80\n",
      "drop_4: 0.2\n",
      "unit_5: 55\n",
      "drop_5: 0.05\n",
      "tuner/epochs: 4\n",
      "tuner/initial_epoch: 0\n",
      "tuner/bracket: 1\n",
      "tuner/round: 0\n",
      "Score: 0.5766016840934753\n",
      "\n",
      "Trial 0068 summary\n",
      "Hyperparameters:\n",
      "learning_rate: 0.067486905103369\n",
      "num_layers: 5\n",
      "unit_0: 20\n",
      "drop_0: 0.1\n",
      "unit_1: 75\n",
      "drop_1: 0.15000000000000002\n",
      "unit_2: 55\n",
      "drop_2: 0.0\n",
      "unit_3: 75\n",
      "drop_3: 0.2\n",
      "unit_4: 15\n",
      "drop_4: 0.05\n",
      "unit_5: 25\n",
      "drop_5: 0.2\n",
      "tuner/epochs: 2\n",
      "tuner/initial_epoch: 0\n",
      "tuner/bracket: 2\n",
      "tuner/round: 0\n",
      "Score: 0.5766016840934753\n"
     ]
    }
   ],
   "source": [
    "tuner.results_summary()"
   ]
  },
  {
   "cell_type": "raw",
   "id": "30e214db-5e1c-42f7-afda-2d8fdacca90e",
   "metadata": {},
   "source": [
    "Trial 0021 summary\n",
    "Hyperparameters:\n",
    "learning_rate: 0.008994169021760937\n",
    "num_layers: 5\n",
    "unit_0: 40\n",
    "drop_0: 0.2\n",
    "unit_1: 70\n",
    "drop_1: 0.15000000000000002\n",
    "unit_2: 45\n",
    "drop_2: 0.0\n",
    "unit_3: 45\n",
    "drop_3: 0.1\n",
    "unit_4: 35\n",
    "drop_4: 0.1\n",
    "unit_5: 45\n",
    "drop_5: 0.1\n",
    "tuner/epochs: 4"
   ]
  },
  {
   "cell_type": "code",
   "execution_count": 5,
   "id": "c0d30c09-8e68-4dc7-b199-cb31c873bff1",
   "metadata": {},
   "outputs": [
    {
     "data": {
      "image/png": "[encoded data removed]",
      "text/plain": [
       "<Figure size 1000x500 with 2 Axes>"
      ]
     },
     "metadata": {},
     "output_type": "display_data"
    },
    {
     "data": {
      "image/png": "[encoded data removed]",
      "text/plain": [
       "<Figure size 1000x500 with 2 Axes>"
      ]
     },
     "metadata": {},
     "output_type": "display_data"
    },
    {
     "data": {
      "image/png": "[encoded data removed]",
      "text/plain": [
       "<Figure size 1000x500 with 2 Axes>"
      ]
     },
     "metadata": {},
     "output_type": "display_data"
    },
    {
     "data": {
      "image/png": "[encoded data removed]",
      "text/plain": [
       "<Figure size 1000x500 with 2 Axes>"
      ]
     },
     "metadata": {},
     "output_type": "display_data"
    },
    {
     "data": {
      "image/png": "[encoded data removed]",
      "text/plain": [
       "<Figure size 1000x500 with 2 Axes>"
      ]
     },
     "metadata": {},
     "output_type": "display_data"
    },
    {
     "data": {
      "image/png": "[encoded data removed]",
      "text/plain": [
       "<Figure size 640x480 with 1 Axes>"
      ]
     },
     "metadata": {},
     "output_type": "display_data"
    }
   ],
   "source": [
    "import numpy as np\n",
    "import matplotlib.pyplot as plt\n",
    "import seaborn as sns\n",
    "def plot_heatmap(data, index):\n",
    "    sample = data[index].squeeze()  # Eliminar dimensiones extra\n",
    "    plt.figure(figsize=(10, 5))\n",
    "    sns.heatmap(sample.reshape(1, -1), cmap='viridis', cbar=True, xticklabels=False, yticklabels=False)\n",
    "    plt.title(f'Mapa de calor para la muestra {index}')\n",
    "    plt.show()\n",
    "\n",
    "# Trazar mapas de calor para las primeras 5 muestras\n",
    "for i in range(5):\n",
    "    plot_heatmap(X_train, i)\n",
    "\n",
    "# Distribución de las clases\n",
    "def plot_class_distribution(y_train):\n",
    "    sns.countplot(x=y_train)\n",
    "    plt.title('Distribución de las clases en y_train')\n",
    "    plt.xlabel('Clase')\n",
    "    plt.ylabel('Frecuencia')\n",
    "    plt.show()\n",
    "\n",
    "# Mostrar la distribución de las clases\n",
    "plot_class_distribution(y_train)"
   ]
  },
  {
   "cell_type": "code",
   "execution_count": null,
   "id": "e15a29fe-4415-44e0-acf3-611f77af5c1c",
   "metadata": {},
   "outputs": [],
   "source": []
  }
 ],
 "metadata": {
  "kernelspec": {
   "display_name": "Python 3 (ipykernel)",
   "language": "python",
   "name": "python3"
  },
  "language_info": {
   "codemirror_mode": {
    "name": "ipython",
    "version": 3
   },
   "file_extension": ".py",
   "mimetype": "text/x-python",
   "name": "python",
   "nbconvert_exporter": "python",
   "pygments_lexer": "ipython3",
   "version": "3.11.0rc1"
  }
 },
 "nbformat": 4,
 "nbformat_minor": 5
}
